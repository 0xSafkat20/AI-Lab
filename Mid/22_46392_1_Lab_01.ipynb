{
  "cells": [
    {
      "cell_type": "markdown",
      "metadata": {
        "id": "tUakohw5RzmN"
      },
      "source": [
        "# About this notebook\n",
        "<p style=\"text-align: justify\"> Here, you will learn the basic coding and data structures including numbers, strings, list, dictionaries and more. Some codes already done for demonstration. Some other codes, you will do as excercises.</p>\n",
        "\n",
        "## Submission\n",
        "<p style=\"text-align: justify\">After completing the practice codes and exercises, download the notebook (.pynb file) and submit the notebook  to MS Teams inbox in the class period.</p>\n",
        "<p> 1.<b> You must submit your own code</b>. If similarity found negative marking will be given.</p>\n",
        "\n",
        "<p> 2. Other file format (except .pynb) or link will not be accepted.</p>"
      ]
    },
    {
      "cell_type": "markdown",
      "metadata": {
        "id": "iQlhsnAxRzmQ"
      },
      "source": [
        "# Number"
      ]
    },
    {
      "cell_type": "markdown",
      "source": [
        "**Basic Arithmetic Operations**"
      ],
      "metadata": {
        "id": "o2tdR7GeesS-"
      }
    },
    {
      "cell_type": "code",
      "execution_count": null,
      "metadata": {
        "id": "EgjVFy62RzmR",
        "outputId": "bba8fde4-5180-4a20-8874-a7c3b2b568cb",
        "colab": {
          "base_uri": "https://localhost:8080/"
        }
      },
      "outputs": [
        {
          "output_type": "stream",
          "name": "stdout",
          "text": [
            "Sum: 15, Difference: 5, Product: 50, Division: 2.0\n"
          ]
        }
      ],
      "source": [
        "# Addition, Subtraction, Multiplication, Division\n",
        "a = 10\n",
        "b = 5\n",
        "\n",
        "sum_result = a + b\n",
        "difference_result = a - b\n",
        "product_result = a * b\n",
        "division_result = a / b\n",
        "\n",
        "print(f\"Sum: {sum_result}, Difference: {difference_result}, Product: {product_result}, Division: {division_result}\")\n"
      ]
    },
    {
      "cell_type": "code",
      "source": [
        "x = 20\n",
        "y = 4\n",
        "\n",
        "add_result = x + y\n",
        "subtract_result = x - y\n",
        "multiply_result = x * y\n",
        "divide_result = x / y\n",
        "\n",
        "print(f\"Addition: {add_result}, Subtraction: {subtract_result}, Multiplication: {multiply_result}, Division: {divide_result}\")"
      ],
      "metadata": {
        "id": "LY4Xxwww_ThU",
        "colab": {
          "base_uri": "https://localhost:8080/"
        },
        "outputId": "4ca6219b-0bc6-48f3-8b47-a77a1ea65d03"
      },
      "execution_count": 1,
      "outputs": [
        {
          "output_type": "stream",
          "name": "stdout",
          "text": [
            "Addition: 24, Subtraction: 16, Multiplication: 80, Division: 5.0\n"
          ]
        }
      ]
    },
    {
      "cell_type": "markdown",
      "source": [
        "**Exponentiation and Modulus**"
      ],
      "metadata": {
        "id": "L1A8cyZhel8G"
      }
    },
    {
      "cell_type": "code",
      "execution_count": null,
      "metadata": {
        "id": "F0FimSxMRzmS",
        "outputId": "d23c7e59-193c-4a05-da1b-53c1e753c34a",
        "colab": {
          "base_uri": "https://localhost:8080/"
        }
      },
      "outputs": [
        {
          "output_type": "stream",
          "name": "stdout",
          "text": [
            "Power: 8, Modulus: 0\n"
          ]
        }
      ],
      "source": [
        "# Exponentiation (Power) and Modulus (Remainder)\n",
        "base = 2\n",
        "exponent = 3\n",
        "\n",
        "power_result = base ** exponent\n",
        "modulus_result = a % b\n",
        "\n",
        "print(f\"Power: {power_result}, Modulus: {modulus_result}\")"
      ]
    },
    {
      "cell_type": "code",
      "source": [
        "num = 5\n",
        "power = 2\n",
        "\n",
        "exp_result = num ** power\n",
        "remainder_result = num % 3\n",
        "\n",
        "print(f\"Exponentiation: {exp_result}, Remainder: {remainder_result}\")"
      ],
      "metadata": {
        "id": "NxrxOROH_Yyu",
        "colab": {
          "base_uri": "https://localhost:8080/"
        },
        "outputId": "4d944fa9-eff5-4128-97ee-efb49aae1e53"
      },
      "execution_count": 2,
      "outputs": [
        {
          "output_type": "stream",
          "name": "stdout",
          "text": [
            "Exponentiation: 25, Remainder: 2\n"
          ]
        }
      ]
    },
    {
      "cell_type": "markdown",
      "source": [
        "**Floor Division**"
      ],
      "metadata": {
        "id": "5J_-KzeDe4l2"
      }
    },
    {
      "cell_type": "code",
      "execution_count": null,
      "metadata": {
        "id": "CjDuJ9zqRzmS",
        "outputId": "821d7d5d-7d3e-4cf3-dc17-a0104318cd44",
        "colab": {
          "base_uri": "https://localhost:8080/"
        }
      },
      "outputs": [
        {
          "output_type": "stream",
          "name": "stdout",
          "text": [
            "Floor Division: 2\n"
          ]
        }
      ],
      "source": [
        "# Floor Division\n",
        "floor_result = a // b   # floored division result\n",
        "\n",
        "print(f\"Floor Division: {floor_result}\")"
      ]
    },
    {
      "cell_type": "code",
      "source": [
        "m = 15\n",
        "n = 4\n",
        "\n",
        "floor_div_result = m // n\n",
        "\n",
        "print(f\"Floor Division: {floor_div_result}\")"
      ],
      "metadata": {
        "colab": {
          "base_uri": "https://localhost:8080/"
        },
        "id": "MHmDloy_Ak4b",
        "outputId": "cfdcb8e2-1e83-4527-d8c0-2b402479519d"
      },
      "execution_count": 3,
      "outputs": [
        {
          "output_type": "stream",
          "name": "stdout",
          "text": [
            "Floor Division: 3\n"
          ]
        }
      ]
    },
    {
      "cell_type": "markdown",
      "source": [
        "**Absolute Value and Rounding**"
      ],
      "metadata": {
        "id": "mBRQRK5Me-a2"
      }
    },
    {
      "cell_type": "code",
      "execution_count": null,
      "metadata": {
        "id": "q8eSw206RzmT",
        "outputId": "cc5de2a7-8daa-4ba1-de1b-9513b6fdbd23",
        "colab": {
          "base_uri": "https://localhost:8080/"
        }
      },
      "outputs": [
        {
          "output_type": "stream",
          "name": "stdout",
          "text": [
            "Absolute Value: 7.5, Rounded Value: -8\n"
          ]
        }
      ],
      "source": [
        "# Absolute Value and Rounding\n",
        "negative_number = -7.5\n",
        "\n",
        "absolute_value = abs(negative_number)\n",
        "rounded_value = round(negative_number)\n",
        "\n",
        "print(f\"Absolute Value: {absolute_value}, Rounded Value: {rounded_value}\")"
      ]
    },
    {
      "cell_type": "code",
      "source": [
        "another_number = -3.8\n",
        "\n",
        "absolute_value = abs(another_number)\n",
        "rounded_value = round(another_number)\n",
        "\n",
        "print(f\"Absolute Value: {absolute_value}, Rounded Value: {rounded_value}\")"
      ],
      "metadata": {
        "colab": {
          "base_uri": "https://localhost:8080/"
        },
        "id": "23teU3LZA9Gj",
        "outputId": "7521ebff-4449-43db-b0cc-9305c0e2464a"
      },
      "execution_count": 4,
      "outputs": [
        {
          "output_type": "stream",
          "name": "stdout",
          "text": [
            "Absolute Value: 3.8, Rounded Value: -4\n"
          ]
        }
      ]
    },
    {
      "cell_type": "markdown",
      "source": [
        "**Using the math module for advanced number operations**"
      ],
      "metadata": {
        "id": "hlzr4PFFfFce"
      }
    },
    {
      "cell_type": "code",
      "execution_count": 5,
      "metadata": {
        "id": "NiPvZZDiRzmT",
        "outputId": "59ad0658-1fbb-4f9e-89f5-9f7224309017",
        "colab": {
          "base_uri": "https://localhost:8080/"
        }
      },
      "outputs": [
        {
          "output_type": "stream",
          "name": "stdout",
          "text": [
            "Square Root: 4.0, Factorial: 120, sin(30 degrees): 0.49999999999999994\n"
          ]
        }
      ],
      "source": [
        "import math\n",
        "\n",
        "# Square root, Factorial, and Trigonometric functions\n",
        "square_root = math.sqrt(16)\n",
        "factorial_result = math.factorial(5)\n",
        "sin_value = math.sin(math.radians(30))\n",
        "\n",
        "print(f\"Square Root: {square_root}, Factorial: {factorial_result}, sin(30 degrees): {sin_value}\")"
      ]
    },
    {
      "cell_type": "code",
      "source": [
        "import math\n",
        "\n",
        "square_root = math.sqrt(25)\n",
        "factorial_result = math.factorial(4)\n",
        "cos_value = math.cos(math.radians(60))\n",
        "\n",
        "print(f\"Square Root: {square_root}, Factorial: {factorial_result}, cos(60 degrees): {cos_value}\")\n"
      ],
      "metadata": {
        "colab": {
          "base_uri": "https://localhost:8080/"
        },
        "id": "NwJCGQqKBEIj",
        "outputId": "3dfdcde5-a190-4590-ff6e-ea1322f1da65"
      },
      "execution_count": 6,
      "outputs": [
        {
          "output_type": "stream",
          "name": "stdout",
          "text": [
            "Square Root: 5.0, Factorial: 24, cos(60 degrees): 0.5000000000000001\n"
          ]
        }
      ]
    },
    {
      "cell_type": "markdown",
      "source": [
        "**Random Number Generation**"
      ],
      "metadata": {
        "id": "xDRpa1dAfMAe"
      }
    },
    {
      "cell_type": "code",
      "execution_count": 7,
      "metadata": {
        "id": "DxWMtt3-RzmU",
        "colab": {
          "base_uri": "https://localhost:8080/"
        },
        "outputId": "991d99dc-ff25-4ccc-afb8-71ae14a74278"
      },
      "outputs": [
        {
          "output_type": "stream",
          "name": "stdout",
          "text": [
            "Random Number: 55\n",
            "Random Float: 0.6882417368158009\n"
          ]
        }
      ],
      "source": [
        "import random\n",
        "\n",
        "# Generate a random number between 1 and 100\n",
        "random_number = random.randint(1, 100)\n",
        "print(f\"Random Number: {random_number}\")\n",
        "\n",
        "# Generate a random float between 0 and 1\n",
        "random_float = random.random()\n",
        "print(f\"Random Float: {random_float}\")"
      ]
    },
    {
      "cell_type": "code",
      "source": [
        "import random\n",
        "\n",
        "random_number = random.randint(1, 100)\n",
        "print(f\"Random Number: {random_number}\")\n",
        "\n",
        "random_float = random.random()\n",
        "print(f\"Random Float: {random_float}\")\n"
      ],
      "metadata": {
        "colab": {
          "base_uri": "https://localhost:8080/"
        },
        "id": "_w_OqBOTBcc_",
        "outputId": "46fcddf4-f507-44b0-bf9d-8782aa91d2fb"
      },
      "execution_count": 8,
      "outputs": [
        {
          "output_type": "stream",
          "name": "stdout",
          "text": [
            "Random Number: 77\n",
            "Random Float: 0.8480233233708733\n"
          ]
        }
      ]
    },
    {
      "cell_type": "markdown",
      "metadata": {
        "id": "SKFSp-jyRzmW"
      },
      "source": [
        "<b>Note:</b> A cell in Python will only display the value of the last expression. If you want to output other values, you should use the *print()* function."
      ]
    },
    {
      "cell_type": "markdown",
      "metadata": {
        "id": "mzYaXui8RzmX"
      },
      "source": [
        "# Object types\n",
        "The basic object types are Numbers, Strings, Lists, Dictionaries, Tuples, Files and Other types (Sets, types, None, Booleans etc.)"
      ]
    },
    {
      "cell_type": "markdown",
      "source": [
        "**Integer and Float**"
      ],
      "metadata": {
        "id": "Kr5AuYMAnIfW"
      }
    },
    {
      "cell_type": "code",
      "source": [
        "a=10.5\n",
        "b=6"
      ],
      "metadata": {
        "id": "m9Ph-hDmteoA"
      },
      "execution_count": null,
      "outputs": []
    },
    {
      "cell_type": "code",
      "execution_count": null,
      "metadata": {
        "id": "2RVFS2BPRzmX",
        "outputId": "aa88fbb5-87be-4460-e89a-2f911b691339",
        "colab": {
          "base_uri": "https://localhost:8080/"
        }
      },
      "outputs": [
        {
          "output_type": "stream",
          "name": "stdout",
          "text": [
            "<class 'float'>\n",
            "<class 'int'>\n"
          ]
        }
      ],
      "source": [
        "# Checking the type of an object\n",
        "print(type(a))\n",
        "print(type(b))"
      ]
    },
    {
      "cell_type": "code",
      "source": [
        "a = 50.5\n",
        "b = 9\n",
        "\n",
        "print(type(a))\n",
        "print(type(b))\n"
      ],
      "metadata": {
        "colab": {
          "base_uri": "https://localhost:8080/"
        },
        "id": "n4KBfmQ_Bm9u",
        "outputId": "6f381528-be38-4eed-cee2-2f64798e2986"
      },
      "execution_count": 10,
      "outputs": [
        {
          "output_type": "stream",
          "name": "stdout",
          "text": [
            "<class 'float'>\n",
            "<class 'int'>\n"
          ]
        }
      ]
    },
    {
      "cell_type": "markdown",
      "source": [
        "**String**"
      ],
      "metadata": {
        "id": "SvfqJBZ9nYBt"
      }
    },
    {
      "cell_type": "code",
      "execution_count": null,
      "metadata": {
        "id": "YgdInV-bRzmZ",
        "outputId": "9e689673-84cb-42a1-9058-29f7f295dbe2",
        "colab": {
          "base_uri": "https://localhost:8080/"
        }
      },
      "outputs": [
        {
          "output_type": "stream",
          "name": "stdout",
          "text": [
            "Hello, Alice\n"
          ]
        }
      ],
      "source": [
        "# Concatenation\n",
        "greeting = \"Hello, \"\n",
        "name = \"Alice\"\n",
        "message = greeting + name  # Combine strings\n",
        "print(message)"
      ]
    },
    {
      "cell_type": "code",
      "source": [
        "greeting = \"Hello, \"\n",
        "name = \"Safkat\"\n",
        "message = greeting + name\n",
        "print(message)"
      ],
      "metadata": {
        "colab": {
          "base_uri": "https://localhost:8080/"
        },
        "id": "LuV5LS3kB7gx",
        "outputId": "7251a315-4ffb-4733-c14d-f236c952564c"
      },
      "execution_count": 11,
      "outputs": [
        {
          "output_type": "stream",
          "name": "stdout",
          "text": [
            "Hello, Safkat\n"
          ]
        }
      ]
    },
    {
      "cell_type": "code",
      "execution_count": null,
      "metadata": {
        "id": "SApsog7_RzmZ",
        "outputId": "cdfde359-8c61-4448-e675-62aa3095365a",
        "colab": {
          "base_uri": "https://localhost:8080/"
        }
      },
      "outputs": [
        {
          "output_type": "stream",
          "name": "stdout",
          "text": [
            "Hi! Hi! Hi! \n"
          ]
        }
      ],
      "source": [
        "# Repetition\n",
        "repeat_string = \"Hi! \" * 3\n",
        "print(repeat_string)"
      ]
    },
    {
      "cell_type": "code",
      "source": [
        "repeat_string = \"Bye! \" * 3\n",
        "print(repeat_string)"
      ],
      "metadata": {
        "colab": {
          "base_uri": "https://localhost:8080/"
        },
        "id": "5CjMyxXfCCsH",
        "outputId": "d886e3c0-c8e2-4c57-f31d-13a709c2e244"
      },
      "execution_count": 12,
      "outputs": [
        {
          "output_type": "stream",
          "name": "stdout",
          "text": [
            "Bye! Bye! Bye! \n"
          ]
        }
      ]
    },
    {
      "cell_type": "code",
      "source": [
        "# Slicing\n",
        "text = \"Hello, World!\"\n",
        "substring = text[7:12]  # Extract substring\n",
        "print(substring)"
      ],
      "metadata": {
        "colab": {
          "base_uri": "https://localhost:8080/"
        },
        "id": "paYi-atNn01N",
        "outputId": "280d19de-2b4a-4d64-8a68-f8f450115d5f"
      },
      "execution_count": 13,
      "outputs": [
        {
          "output_type": "stream",
          "name": "stdout",
          "text": [
            "World\n"
          ]
        }
      ]
    },
    {
      "cell_type": "code",
      "source": [
        "text = \"Good, Morning!\"\n",
        "substring = text[6:14]  # Extract substring\n",
        "print(substring)"
      ],
      "metadata": {
        "colab": {
          "base_uri": "https://localhost:8080/"
        },
        "id": "sZAYMSz-CIyx",
        "outputId": "b09d649b-bfe7-42bb-cebd-b2fe1c3842e1"
      },
      "execution_count": 16,
      "outputs": [
        {
          "output_type": "stream",
          "name": "stdout",
          "text": [
            "Morning!\n"
          ]
        }
      ]
    },
    {
      "cell_type": "code",
      "execution_count": 19,
      "metadata": {
        "id": "BfxzLD9HRzma",
        "outputId": "656d7626-8817-4c4c-9006-3819bfd32c5d",
        "colab": {
          "base_uri": "https://localhost:8080/"
        }
      },
      "outputs": [
        {
          "output_type": "stream",
          "name": "stdout",
          "text": [
            "HELLO\n",
            "hello\n"
          ]
        }
      ],
      "source": [
        "# Changing case\n",
        "text = \"hello\"\n",
        "upper_case = text.upper()  # Convert to uppercase\n",
        "lower_case = text.lower()  # Convert to lowercase\n",
        "print(upper_case)\n",
        "print(lower_case)"
      ]
    },
    {
      "cell_type": "code",
      "source": [
        "text = \"Night\"\n",
        "upper_case = text.upper()  # Convert to uppercase\n",
        "lower_case = text.lower()  # Convert to lowercase\n",
        "print(upper_case)\n",
        "print(lower_case)"
      ],
      "metadata": {
        "colab": {
          "base_uri": "https://localhost:8080/"
        },
        "id": "IRLpofc3CdsZ",
        "outputId": "6ff61f0e-ac31-4087-eced-d387fbefc544"
      },
      "execution_count": 17,
      "outputs": [
        {
          "output_type": "stream",
          "name": "stdout",
          "text": [
            "NIGHT\n",
            "night\n"
          ]
        }
      ]
    },
    {
      "cell_type": "code",
      "execution_count": 18,
      "metadata": {
        "id": "BNSbM0HNRzma",
        "outputId": "a1ca412a-a51b-4ca5-d2cd-4fdfd28375b0",
        "colab": {
          "base_uri": "https://localhost:8080/"
        }
      },
      "outputs": [
        {
          "output_type": "stream",
          "name": "stdout",
          "text": [
            "Hello, World!\n"
          ]
        }
      ],
      "source": [
        "# Stripping whitespace\n",
        "text = \"   Hello, World!   \"\n",
        "stripped_text = text.strip()  # Removes spaces from both ends\n",
        "print(stripped_text)"
      ]
    },
    {
      "cell_type": "code",
      "source": [
        "# Stripping whitespace\n",
        "text = \"   Good   \"\n",
        "stripped_text = text.strip()  # Removes spaces from both ends\n",
        "print(stripped_text)"
      ],
      "metadata": {
        "colab": {
          "base_uri": "https://localhost:8080/"
        },
        "id": "bvhZz02ACnEK",
        "outputId": "bb83b798-a269-4b94-c6f1-b31ab26112a7"
      },
      "execution_count": 20,
      "outputs": [
        {
          "output_type": "stream",
          "name": "stdout",
          "text": [
            "Good\n"
          ]
        }
      ]
    },
    {
      "cell_type": "code",
      "execution_count": 21,
      "metadata": {
        "id": "v6WtfbxURzma",
        "outputId": "77b53cdf-9a98-4a0f-a90a-554b6b43837e",
        "colab": {
          "base_uri": "https://localhost:8080/"
        }
      },
      "outputs": [
        {
          "output_type": "stream",
          "name": "stdout",
          "text": [
            "7\n"
          ]
        }
      ],
      "source": [
        "# Finding substring\n",
        "text = \"Hello, World!\"\n",
        "index = text.find(\"World\")  # Returns the index where \"substring\" starts\n",
        "print(index)"
      ]
    },
    {
      "cell_type": "code",
      "source": [
        "text = \"Welcome to AIUB\"\n",
        "index = text.find(\"AIUB\")  # Returns the index where \"substring\" starts\n",
        "print(index)"
      ],
      "metadata": {
        "colab": {
          "base_uri": "https://localhost:8080/"
        },
        "id": "kPLkpkUwCvhT",
        "outputId": "9cd9b892-3bcc-41c3-ce54-ca053e224967"
      },
      "execution_count": 22,
      "outputs": [
        {
          "output_type": "stream",
          "name": "stdout",
          "text": [
            "11\n"
          ]
        }
      ]
    },
    {
      "cell_type": "code",
      "execution_count": 23,
      "metadata": {
        "id": "itSLVn7SRzmb",
        "outputId": "098993c3-3e99-4a3a-c788-54f6acb78466",
        "colab": {
          "base_uri": "https://localhost:8080/"
        }
      },
      "outputs": [
        {
          "output_type": "stream",
          "name": "stdout",
          "text": [
            "Hello, Python!\n"
          ]
        }
      ],
      "source": [
        "# Replacing substring\n",
        "text = \"Hello, World!\"\n",
        "new_text = text.replace(\"World\", \"Python\")\n",
        "print(new_text)"
      ]
    },
    {
      "cell_type": "code",
      "source": [
        "text = \"Hello, World!\"\n",
        "new_text = text.replace(\"World\", \"AIUB\")\n",
        "print(new_text)"
      ],
      "metadata": {
        "colab": {
          "base_uri": "https://localhost:8080/"
        },
        "id": "BanuMj-uC6a7",
        "outputId": "58698329-16a0-4a5c-d4b2-f77f1a5d0a36"
      },
      "execution_count": 24,
      "outputs": [
        {
          "output_type": "stream",
          "name": "stdout",
          "text": [
            "Hello, AIUB!\n"
          ]
        }
      ]
    },
    {
      "cell_type": "code",
      "execution_count": 25,
      "metadata": {
        "id": "AaNhu8QMRzmb",
        "outputId": "295a145c-b6ab-4947-a45f-59eb20524130",
        "colab": {
          "base_uri": "https://localhost:8080/"
        }
      },
      "outputs": [
        {
          "output_type": "stream",
          "name": "stdout",
          "text": [
            "True\n",
            "False\n"
          ]
        }
      ],
      "source": [
        "# Checking substring existence\n",
        "text = \"Hello, World!\"\n",
        "contains_hello = \"Hello\" in text\n",
        "contains_python = \"Python\" in text\n",
        "print(contains_hello)\n",
        "print(contains_python)"
      ]
    },
    {
      "cell_type": "code",
      "source": [
        "text = \"Hello, World!\"\n",
        "contains_hello = \"World\" in text\n",
        "contains_python = \"AIUB\" in text\n",
        "print(contains_hello)\n",
        "print(contains_python)"
      ],
      "metadata": {
        "colab": {
          "base_uri": "https://localhost:8080/"
        },
        "id": "7P5BYcSFDDQT",
        "outputId": "38dae9a7-71a4-448f-c525-382d97e5bbdb"
      },
      "execution_count": 26,
      "outputs": [
        {
          "output_type": "stream",
          "name": "stdout",
          "text": [
            "True\n",
            "False\n"
          ]
        }
      ]
    },
    {
      "cell_type": "code",
      "source": [
        "# String length\n",
        "text = \"Hello, World!\"\n",
        "length = len(text)\n",
        "print(length)"
      ],
      "metadata": {
        "id": "MZ8PWiGzeKhU",
        "colab": {
          "base_uri": "https://localhost:8080/"
        },
        "outputId": "dc671564-43be-4fb2-a362-24cb9c5b9dac"
      },
      "execution_count": 27,
      "outputs": [
        {
          "output_type": "stream",
          "name": "stdout",
          "text": [
            "13\n"
          ]
        }
      ]
    },
    {
      "cell_type": "code",
      "source": [
        "text = \"Good Morning!\"\n",
        "length = len(text)\n",
        "print(length)"
      ],
      "metadata": {
        "colab": {
          "base_uri": "https://localhost:8080/"
        },
        "id": "-lbgA-_6DMr0",
        "outputId": "f31ab895-1e0e-447d-9145-10d1a16818a8"
      },
      "execution_count": 28,
      "outputs": [
        {
          "output_type": "stream",
          "name": "stdout",
          "text": [
            "13\n"
          ]
        }
      ]
    },
    {
      "cell_type": "code",
      "execution_count": 29,
      "metadata": {
        "id": "k9ICF4NARzmb",
        "outputId": "73c8e82c-9970-4dc4-a183-e37db231f8ab",
        "colab": {
          "base_uri": "https://localhost:8080/"
        }
      },
      "outputs": [
        {
          "output_type": "stream",
          "name": "stdout",
          "text": [
            "['apple', 'banana', 'orange']\n"
          ]
        }
      ],
      "source": [
        "# Splitting string\n",
        "text = \"apple,banana,orange\"\n",
        "fruits = text.split(\",\")  # Split by comma\n",
        "print(fruits)"
      ]
    },
    {
      "cell_type": "code",
      "source": [
        "text = \"Mango,Apple,Jackfruit\"\n",
        "fruits = text.split(\",\")  # Split by comma\n",
        "print(fruits)"
      ],
      "metadata": {
        "colab": {
          "base_uri": "https://localhost:8080/"
        },
        "id": "WBkPemvPDWJd",
        "outputId": "e0f6a81e-75c8-4c34-ddd1-d33eef4f1210"
      },
      "execution_count": 30,
      "outputs": [
        {
          "output_type": "stream",
          "name": "stdout",
          "text": [
            "['Mango', 'Apple', 'Jackfruit']\n"
          ]
        }
      ]
    },
    {
      "cell_type": "code",
      "execution_count": 31,
      "metadata": {
        "id": "J6Q9RXwSRzmb",
        "colab": {
          "base_uri": "https://localhost:8080/"
        },
        "outputId": "973743e9-6bdf-45cc-ba32-6f5608a93428"
      },
      "outputs": [
        {
          "output_type": "stream",
          "name": "stdout",
          "text": [
            "apple, banana, orange\n"
          ]
        }
      ],
      "source": [
        "# Joining strings\n",
        "fruits = ['apple', 'banana', 'orange']\n",
        "joined_fruits = \", \".join(fruits)\n",
        "print(joined_fruits)"
      ]
    },
    {
      "cell_type": "code",
      "source": [
        "fruits = ['Mango', 'Apple', 'Jackfruite']\n",
        "joined_fruits = \", \".join(fruits)\n",
        "print(joined_fruits)"
      ],
      "metadata": {
        "colab": {
          "base_uri": "https://localhost:8080/"
        },
        "id": "rNqy5UHEDkY1",
        "outputId": "7d9b3408-6782-4830-d8bd-93e77b7ae5df"
      },
      "execution_count": 32,
      "outputs": [
        {
          "output_type": "stream",
          "name": "stdout",
          "text": [
            "Mango, Apple, Jackfruite\n"
          ]
        }
      ]
    },
    {
      "cell_type": "code",
      "source": [
        "# String formatting\n",
        "name = \"Alice\"\n",
        "age = 25\n",
        "formatted_string = f\"My name is {name} and I am {age} years old.\"\n",
        "print(formatted_string)"
      ],
      "metadata": {
        "colab": {
          "base_uri": "https://localhost:8080/"
        },
        "id": "C-SjRINtoWMa",
        "outputId": "be0a0035-fde0-421d-8db5-ba72831ac7ea"
      },
      "execution_count": 33,
      "outputs": [
        {
          "output_type": "stream",
          "name": "stdout",
          "text": [
            "My name is Alice and I am 25 years old.\n"
          ]
        }
      ]
    },
    {
      "cell_type": "code",
      "source": [
        "city = \"Paris\"\n",
        "temperature = 22\n",
        "formatted_string = f\"The weather in {city} is {temperature} degrees Celsius.\"\n",
        "print(formatted_string)"
      ],
      "metadata": {
        "colab": {
          "base_uri": "https://localhost:8080/"
        },
        "id": "-hepH3klEPSJ",
        "outputId": "6ae8cea0-6f8e-4123-f135-065254c0470b"
      },
      "execution_count": 34,
      "outputs": [
        {
          "output_type": "stream",
          "name": "stdout",
          "text": [
            "The weather in Paris is 22 degrees Celsius.\n"
          ]
        }
      ]
    },
    {
      "cell_type": "code",
      "source": [
        "# Checking start or end\n",
        "text = \"Hello, World!\"\n",
        "starts_with_hello = text.startswith(\"Hello\")\n",
        "ends_with_world = text.endswith(\"World!\")\n",
        "print(starts_with_hello)\n",
        "print(ends_with_world)"
      ],
      "metadata": {
        "colab": {
          "base_uri": "https://localhost:8080/"
        },
        "id": "SuMMej-moYkY",
        "outputId": "78207157-32c6-4ffa-ccbb-2d967336c5a6"
      },
      "execution_count": 36,
      "outputs": [
        {
          "output_type": "stream",
          "name": "stdout",
          "text": [
            "True\n",
            "True\n"
          ]
        }
      ]
    },
    {
      "cell_type": "code",
      "source": [
        "message = \"Good morning, everyone!\"\n",
        "starts_with_good = message.startswith(\"Good\")\n",
        "ends_with_everyone = message.endswith(\"everyone!\")\n",
        "print(starts_with_good)\n",
        "print(ends_with_everyone)"
      ],
      "metadata": {
        "colab": {
          "base_uri": "https://localhost:8080/"
        },
        "id": "Z1tWrTkpES8J",
        "outputId": "a97b0920-2c34-4efe-b59e-9bc22f6e6813"
      },
      "execution_count": 35,
      "outputs": [
        {
          "output_type": "stream",
          "name": "stdout",
          "text": [
            "True\n",
            "True\n"
          ]
        }
      ]
    },
    {
      "cell_type": "code",
      "source": [
        "# Counting occurrences\n",
        "text = \"banana\"\n",
        "count_a = text.count(\"a\")\n",
        "print(count_a)"
      ],
      "metadata": {
        "colab": {
          "base_uri": "https://localhost:8080/"
        },
        "id": "de65euTuob61",
        "outputId": "a89edf2b-5773-40eb-8b90-a34054394438"
      },
      "execution_count": 37,
      "outputs": [
        {
          "output_type": "stream",
          "name": "stdout",
          "text": [
            "3\n"
          ]
        }
      ]
    },
    {
      "cell_type": "code",
      "source": [
        "text = \"pineapple\"\n",
        "count_p = text.count(\"p\")\n",
        "print(count_p)\n"
      ],
      "metadata": {
        "colab": {
          "base_uri": "https://localhost:8080/"
        },
        "id": "9Dqy8DC1Ec7y",
        "outputId": "902ac197-7464-43f3-f297-98751001bd4b"
      },
      "execution_count": 38,
      "outputs": [
        {
          "output_type": "stream",
          "name": "stdout",
          "text": [
            "3\n"
          ]
        }
      ]
    },
    {
      "cell_type": "code",
      "source": [
        "# Checking if alphabetic\n",
        "text = \"Hello\"\n",
        "is_alpha = text.isalpha()\n",
        "print(is_alpha)\n",
        "\n",
        "text = \"Hello123\"\n",
        "is_alpha = text.isalpha()\n",
        "print(is_alpha)"
      ],
      "metadata": {
        "colab": {
          "base_uri": "https://localhost:8080/"
        },
        "id": "Ma2QmusioebO",
        "outputId": "ed0a83f8-52ef-4e06-d773-4b5a65c5d476"
      },
      "execution_count": 39,
      "outputs": [
        {
          "output_type": "stream",
          "name": "stdout",
          "text": [
            "True\n",
            "False\n"
          ]
        }
      ]
    },
    {
      "cell_type": "code",
      "source": [
        "text = \"Python\"\n",
        "is_alpha = text.isalpha()\n",
        "print(is_alpha)\n",
        "\n",
        "text = \"Python3\"\n",
        "is_alpha = text.isalpha()\n",
        "print(is_alpha)\n"
      ],
      "metadata": {
        "colab": {
          "base_uri": "https://localhost:8080/"
        },
        "id": "gREG5ucKEogJ",
        "outputId": "22146456-f30c-425d-a924-0947457edc19"
      },
      "execution_count": 40,
      "outputs": [
        {
          "output_type": "stream",
          "name": "stdout",
          "text": [
            "True\n",
            "False\n"
          ]
        }
      ]
    },
    {
      "cell_type": "code",
      "source": [
        "# Negative index example\n",
        "text = \"Hello, World!\"\n",
        "last_char = text[-1:]  # Last character\n",
        "print(last_char)"
      ],
      "metadata": {
        "colab": {
          "base_uri": "https://localhost:8080/"
        },
        "id": "Uw-NHR70oxMd",
        "outputId": "bbec325c-7f17-405e-b6d1-a778d7297e52"
      },
      "execution_count": 41,
      "outputs": [
        {
          "output_type": "stream",
          "name": "stdout",
          "text": [
            "!\n"
          ]
        }
      ]
    },
    {
      "cell_type": "code",
      "source": [
        "text = \"Goodbye!\"\n",
        "last_char = text[-1:]\n",
        "print(last_char)"
      ],
      "metadata": {
        "colab": {
          "base_uri": "https://localhost:8080/"
        },
        "id": "e4iOsXMZEu07",
        "outputId": "3d3801d6-6873-4c70-d740-0162b7943488"
      },
      "execution_count": 42,
      "outputs": [
        {
          "output_type": "stream",
          "name": "stdout",
          "text": [
            "!\n"
          ]
        }
      ]
    },
    {
      "cell_type": "code",
      "source": [
        "# Negative index slicing\n",
        "substring = text[-6:-1]\n",
        "print(substring)"
      ],
      "metadata": {
        "colab": {
          "base_uri": "https://localhost:8080/"
        },
        "id": "R5eeGD7uoymd",
        "outputId": "a29d7303-6504-4f3a-e3c5-a45f6de1ba2e"
      },
      "execution_count": 46,
      "outputs": [
        {
          "output_type": "stream",
          "name": "stdout",
          "text": [
            "ammin\n"
          ]
        }
      ]
    },
    {
      "cell_type": "code",
      "source": [
        "text = \"Artificial\"\n",
        "substring = text[-8:-2]\n",
        "print(substring)"
      ],
      "metadata": {
        "colab": {
          "base_uri": "https://localhost:8080/"
        },
        "id": "qXqF5y_UE0zL",
        "outputId": "f7950ca3-5d2a-4057-bb9f-acfc2949f2e5"
      },
      "execution_count": 49,
      "outputs": [
        {
          "output_type": "stream",
          "name": "stdout",
          "text": [
            "tifici\n"
          ]
        }
      ]
    },
    {
      "cell_type": "code",
      "source": [
        "# Reversing string\n",
        "reversed_text = text[::-1]  # Reverse the entire string\n",
        "print(reversed_text)"
      ],
      "metadata": {
        "colab": {
          "base_uri": "https://localhost:8080/"
        },
        "id": "Mbr9R7w9o2bd",
        "outputId": "f46e1a63-a2b7-40b5-e592-a593f155a5d0"
      },
      "execution_count": 50,
      "outputs": [
        {
          "output_type": "stream",
          "name": "stdout",
          "text": [
            "laicifitrA\n"
          ]
        }
      ]
    },
    {
      "cell_type": "code",
      "source": [
        "text = \"Adventure\"\n",
        "reversed_text = text[::-1]\n",
        "print(reversed_text)"
      ],
      "metadata": {
        "colab": {
          "base_uri": "https://localhost:8080/"
        },
        "id": "NS3NghpFFQBg",
        "outputId": "ad827c6d-6caf-4568-ebb8-c6355b926189"
      },
      "execution_count": 52,
      "outputs": [
        {
          "output_type": "stream",
          "name": "stdout",
          "text": [
            "erutnevdA\n"
          ]
        }
      ]
    },
    {
      "cell_type": "code",
      "source": [
        "# Slicing with negative step\n",
        "reversed_substring = text[-7:-1:2]  # Start from index -7, stop at index -1, step by 2\n",
        "print(reversed_substring)"
      ],
      "metadata": {
        "colab": {
          "base_uri": "https://localhost:8080/"
        },
        "id": "0woH5gW-o-OF",
        "outputId": "a4dc5a08-a702-4de1-e809-49430b4aadb6"
      },
      "execution_count": 53,
      "outputs": [
        {
          "output_type": "stream",
          "name": "stdout",
          "text": [
            "vnu\n"
          ]
        }
      ]
    },
    {
      "cell_type": "code",
      "source": [
        "text = \"Programming\"\n",
        "reversed_substring = text[-7:-1:2]\n",
        "print(reversed_substring)"
      ],
      "metadata": {
        "colab": {
          "base_uri": "https://localhost:8080/"
        },
        "id": "R9pb2VSZFcb5",
        "outputId": "74b4aa4a-e03a-4da5-d762-d0a95085021a"
      },
      "execution_count": 54,
      "outputs": [
        {
          "output_type": "stream",
          "name": "stdout",
          "text": [
            "rmi\n"
          ]
        }
      ]
    },
    {
      "cell_type": "markdown",
      "source": [
        "**List**"
      ],
      "metadata": {
        "id": "0OB3BsVJpBIt"
      }
    },
    {
      "cell_type": "code",
      "execution_count": 55,
      "metadata": {
        "id": "1Upn_AwwRzmd",
        "outputId": "84758fdb-debf-43a9-d34e-5a588b972f1f",
        "colab": {
          "base_uri": "https://localhost:8080/"
        }
      },
      "outputs": [
        {
          "output_type": "stream",
          "name": "stdout",
          "text": [
            "['apple', 'banana', 'cherry']\n"
          ]
        }
      ],
      "source": [
        "# Creating a list\n",
        "fruits = [\"apple\", \"banana\", \"cherry\"]\n",
        "print(fruits)"
      ]
    },
    {
      "cell_type": "code",
      "source": [
        "colors = [\"red\", \"green\", \"blue\"]\n",
        "print(colors)"
      ],
      "metadata": {
        "colab": {
          "base_uri": "https://localhost:8080/"
        },
        "id": "H5zf1QfhFjtd",
        "outputId": "294b997a-4936-4b8e-caad-d7b5c88c8e02"
      },
      "execution_count": 56,
      "outputs": [
        {
          "output_type": "stream",
          "name": "stdout",
          "text": [
            "['red', 'green', 'blue']\n"
          ]
        }
      ]
    },
    {
      "cell_type": "code",
      "execution_count": 57,
      "metadata": {
        "id": "MSN71x4NRzmd",
        "colab": {
          "base_uri": "https://localhost:8080/"
        },
        "outputId": "46ffecea-dd69-4826-a190-c9b9f01f3d6b"
      },
      "outputs": [
        {
          "output_type": "stream",
          "name": "stdout",
          "text": [
            "apple\n",
            "cherry\n"
          ]
        }
      ],
      "source": [
        "# Accessing list elements\n",
        "first_fruit = fruits[0]\n",
        "print(first_fruit)\n",
        "\n",
        "last_fruit = fruits[-1]  # Last element\n",
        "print(last_fruit)"
      ]
    },
    {
      "cell_type": "code",
      "source": [
        "colors = [\"red\", \"green\", \"blue\"]\n",
        "\n",
        "first_color = colors[0]\n",
        "print(first_color)\n",
        "\n",
        "last_color = colors[-1]\n",
        "print(last_color)"
      ],
      "metadata": {
        "colab": {
          "base_uri": "https://localhost:8080/"
        },
        "id": "5QHVRmAoFqWW",
        "outputId": "f7ef96c4-d885-478a-afa4-68efe5a9d0ea"
      },
      "execution_count": 58,
      "outputs": [
        {
          "output_type": "stream",
          "name": "stdout",
          "text": [
            "red\n",
            "blue\n"
          ]
        }
      ]
    },
    {
      "cell_type": "markdown",
      "metadata": {
        "id": "EAZkybb9Rzmd"
      },
      "source": [
        "Like strings (and all other built-in sequence types), lists can be indexed and sliced:"
      ]
    },
    {
      "cell_type": "code",
      "execution_count": 59,
      "metadata": {
        "id": "mroJxa8xRzmd",
        "outputId": "34207e4c-f13d-4c45-831e-de41a8b57f93",
        "colab": {
          "base_uri": "https://localhost:8080/"
        }
      },
      "outputs": [
        {
          "output_type": "stream",
          "name": "stdout",
          "text": [
            "['banana', 'cherry']\n"
          ]
        }
      ],
      "source": [
        "# Slicing a list\n",
        "sublist = fruits[1:3]  # Elements from index 1 to 2\n",
        "print(sublist)"
      ]
    },
    {
      "cell_type": "code",
      "source": [
        "colors = [\"red\", \"green\", \"blue\", \"yellow\"]\n",
        "\n",
        "sublist = colors[1:3]\n",
        "print(sublist)"
      ],
      "metadata": {
        "colab": {
          "base_uri": "https://localhost:8080/"
        },
        "id": "mUPYUt8KFvrx",
        "outputId": "856ebb21-c568-4d63-f99f-af9230b1fa69"
      },
      "execution_count": 60,
      "outputs": [
        {
          "output_type": "stream",
          "name": "stdout",
          "text": [
            "['green', 'blue']\n"
          ]
        }
      ]
    },
    {
      "cell_type": "code",
      "execution_count": 61,
      "metadata": {
        "id": "9hZ2VcSURzmd",
        "outputId": "561c6ccd-56f3-42c6-def9-694771573525",
        "colab": {
          "base_uri": "https://localhost:8080/"
        }
      },
      "outputs": [
        {
          "output_type": "stream",
          "name": "stdout",
          "text": [
            "['apple', 'banana', 'cherry', 'orange']\n"
          ]
        }
      ],
      "source": [
        "# Appending an element\n",
        "fruits.append(\"orange\")\n",
        "print(fruits)"
      ]
    },
    {
      "cell_type": "code",
      "source": [
        "colors = [\"red\", \"green\", \"blue\"]\n",
        "colors.append(\"purple\")\n",
        "print(colors)"
      ],
      "metadata": {
        "colab": {
          "base_uri": "https://localhost:8080/"
        },
        "id": "ivqrQ1I0F2BF",
        "outputId": "720619ee-5698-467c-f114-7a91100f3e26"
      },
      "execution_count": 62,
      "outputs": [
        {
          "output_type": "stream",
          "name": "stdout",
          "text": [
            "['red', 'green', 'blue', 'purple']\n"
          ]
        }
      ]
    },
    {
      "cell_type": "code",
      "execution_count": 63,
      "metadata": {
        "id": "7OTvEEpmRzme",
        "outputId": "7c56ebd2-c091-4b52-938e-b23bf7483359",
        "colab": {
          "base_uri": "https://localhost:8080/"
        }
      },
      "outputs": [
        {
          "output_type": "stream",
          "name": "stdout",
          "text": [
            "['apple', 'grape', 'banana', 'cherry', 'orange']\n"
          ]
        }
      ],
      "source": [
        "# Inserting an element\n",
        "fruits.insert(1, \"grape\")  # Insert \"grape\" at index 1\n",
        "print(fruits)"
      ]
    },
    {
      "cell_type": "code",
      "source": [
        "colors = [\"red\", \"green\", \"blue\"]\n",
        "colors.insert(1, \"yellow\")\n",
        "print(colors)"
      ],
      "metadata": {
        "colab": {
          "base_uri": "https://localhost:8080/"
        },
        "id": "az0xgkPiF94v",
        "outputId": "0589880c-91e6-4708-9e9c-dfa0efef1ebb"
      },
      "execution_count": 64,
      "outputs": [
        {
          "output_type": "stream",
          "name": "stdout",
          "text": [
            "['red', 'yellow', 'green', 'blue']\n"
          ]
        }
      ]
    },
    {
      "cell_type": "code",
      "execution_count": 65,
      "metadata": {
        "id": "CNJjqWtzRzme",
        "outputId": "7b3b5889-62fb-4145-c352-285394469f77",
        "colab": {
          "base_uri": "https://localhost:8080/"
        }
      },
      "outputs": [
        {
          "output_type": "stream",
          "name": "stdout",
          "text": [
            "['apple', 'grape', 'cherry', 'orange']\n",
            "cherry\n",
            "['apple', 'grape', 'orange']\n"
          ]
        }
      ],
      "source": [
        "# Removing by value\n",
        "fruits.remove(\"banana\")\n",
        "print(fruits)\n",
        "\n",
        "# Removing by index\n",
        "removed_fruit = fruits.pop(2)  # Removes element at index 2\n",
        "print(removed_fruit)\n",
        "print(fruits)"
      ]
    },
    {
      "cell_type": "code",
      "source": [
        "colors = [\"red\", \"yellow\", \"green\", \"blue\"]\n",
        "\n",
        "colors.remove(\"yellow\")\n",
        "print(colors)\n",
        "\n",
        "removed_color = colors.pop(2)\n",
        "print(removed_color)\n",
        "print(colors)\n"
      ],
      "metadata": {
        "colab": {
          "base_uri": "https://localhost:8080/"
        },
        "id": "lCiA_FQGGFYv",
        "outputId": "c9a44142-37b6-4bd4-c16d-23700aba337f"
      },
      "execution_count": 66,
      "outputs": [
        {
          "output_type": "stream",
          "name": "stdout",
          "text": [
            "['red', 'green', 'blue']\n",
            "blue\n",
            "['red', 'green']\n"
          ]
        }
      ]
    },
    {
      "cell_type": "code",
      "source": [
        "# Finding the index of an element\n",
        "index_of_grape = fruits.index(\"grape\")\n",
        "print(index_of_grape)"
      ],
      "metadata": {
        "colab": {
          "base_uri": "https://localhost:8080/"
        },
        "id": "XD1ow2RDpjv1",
        "outputId": "8bd9bdd9-8779-4100-ed5f-51bdd77e08f5"
      },
      "execution_count": 67,
      "outputs": [
        {
          "output_type": "stream",
          "name": "stdout",
          "text": [
            "1\n"
          ]
        }
      ]
    },
    {
      "cell_type": "code",
      "source": [
        "colors = [\"red\", \"yellow\", \"green\", \"blue\"]\n",
        "index_of_green = colors.index(\"green\")\n",
        "print(index_of_green)"
      ],
      "metadata": {
        "colab": {
          "base_uri": "https://localhost:8080/"
        },
        "id": "f3u-97ZkGNfI",
        "outputId": "81381ab3-d27f-459a-a85a-a62ae6bf4541"
      },
      "execution_count": 68,
      "outputs": [
        {
          "output_type": "stream",
          "name": "stdout",
          "text": [
            "2\n"
          ]
        }
      ]
    },
    {
      "cell_type": "code",
      "execution_count": 69,
      "metadata": {
        "id": "DyOJ1nzPRzme",
        "outputId": "713dcdf1-ee80-4f2b-cdcd-35d9effdb07f",
        "colab": {
          "base_uri": "https://localhost:8080/"
        }
      },
      "outputs": [
        {
          "output_type": "stream",
          "name": "stdout",
          "text": [
            "True\n",
            "False\n"
          ]
        }
      ],
      "source": [
        "# Checking existence of an element\n",
        "exists = \"apple\" in fruits\n",
        "print(exists)\n",
        "\n",
        "exists = \"banana\" in fruits\n",
        "print(exists)\n"
      ]
    },
    {
      "cell_type": "code",
      "source": [
        "colors = [\"red\", \"yellow\", \"green\", \"blue\"]\n",
        "\n",
        "exists = \"red\" in colors\n",
        "print(exists)\n",
        "\n",
        "exists = \"purple\" in colors\n",
        "print(exists)\n"
      ],
      "metadata": {
        "colab": {
          "base_uri": "https://localhost:8080/"
        },
        "id": "ye1J_6k5GXeA",
        "outputId": "2012db34-e148-43b3-ef7d-72d695f3344d"
      },
      "execution_count": 70,
      "outputs": [
        {
          "output_type": "stream",
          "name": "stdout",
          "text": [
            "True\n",
            "False\n"
          ]
        }
      ]
    },
    {
      "cell_type": "code",
      "execution_count": 71,
      "metadata": {
        "id": "ODxFEFb6Rzme",
        "outputId": "17bd2f32-6d34-41e7-ce45-20aafd1382a7",
        "colab": {
          "base_uri": "https://localhost:8080/"
        }
      },
      "outputs": [
        {
          "output_type": "stream",
          "name": "stdout",
          "text": [
            "3\n"
          ]
        }
      ],
      "source": [
        "# Getting the length of the list\n",
        "length = len(fruits)\n",
        "print(length)"
      ]
    },
    {
      "cell_type": "code",
      "source": [
        "colors = [\"red\", \"yellow\", \"green\", \"blue\"]\n",
        "length = len(colors)\n",
        "print(length)\n"
      ],
      "metadata": {
        "colab": {
          "base_uri": "https://localhost:8080/"
        },
        "id": "f6mJ1E_bGfuo",
        "outputId": "2a0b185d-8d3c-477b-cef0-12d46904ffa4"
      },
      "execution_count": 72,
      "outputs": [
        {
          "output_type": "stream",
          "name": "stdout",
          "text": [
            "4\n"
          ]
        }
      ]
    },
    {
      "cell_type": "code",
      "execution_count": 73,
      "metadata": {
        "id": "k8zOnP5zRzme",
        "outputId": "a075e023-2fac-4eac-9da9-341b90f8c22a",
        "colab": {
          "base_uri": "https://localhost:8080/"
        }
      },
      "outputs": [
        {
          "output_type": "stream",
          "name": "stdout",
          "text": [
            "['apple', 'banana', 'grape', 'orange']\n"
          ]
        }
      ],
      "source": [
        "# Sorting a list\n",
        "fruits = [\"orange\", \"banana\", \"apple\", \"grape\"]\n",
        "fruits.sort()\n",
        "print(fruits)"
      ]
    },
    {
      "cell_type": "code",
      "source": [
        "numbers = [42, 7, 19, 3, 88]\n",
        "numbers.sort()\n",
        "print(numbers)"
      ],
      "metadata": {
        "colab": {
          "base_uri": "https://localhost:8080/"
        },
        "id": "lMOXV96eGruZ",
        "outputId": "96ba999b-c6bf-4c35-b075-f2d0b5b36a97"
      },
      "execution_count": 74,
      "outputs": [
        {
          "output_type": "stream",
          "name": "stdout",
          "text": [
            "[3, 7, 19, 42, 88]\n"
          ]
        }
      ]
    },
    {
      "cell_type": "code",
      "source": [
        "# Reversing a list\n",
        "fruits.reverse()\n",
        "print(fruits)"
      ],
      "metadata": {
        "colab": {
          "base_uri": "https://localhost:8080/"
        },
        "id": "gyMui8TQpwOV",
        "outputId": "19f0fec5-fcdf-464f-959a-e50e6549f308"
      },
      "execution_count": 75,
      "outputs": [
        {
          "output_type": "stream",
          "name": "stdout",
          "text": [
            "['orange', 'grape', 'banana', 'apple']\n"
          ]
        }
      ]
    },
    {
      "cell_type": "code",
      "source": [
        "numbers = [10, 20, 30, 40, 50]\n",
        "numbers.reverse()\n",
        "print(numbers)"
      ],
      "metadata": {
        "colab": {
          "base_uri": "https://localhost:8080/"
        },
        "id": "TSjzgaCVGxW7",
        "outputId": "ccafa1c0-1b07-49d6-d6c9-0d0cc772df8b"
      },
      "execution_count": 76,
      "outputs": [
        {
          "output_type": "stream",
          "name": "stdout",
          "text": [
            "[50, 40, 30, 20, 10]\n"
          ]
        }
      ]
    },
    {
      "cell_type": "code",
      "source": [
        "# List comprehension\n",
        "numbers = [1, 2, 3, 4, 5]\n",
        "squared_numbers = [n ** 2 for n in numbers]\n",
        "print(squared_numbers)"
      ],
      "metadata": {
        "colab": {
          "base_uri": "https://localhost:8080/"
        },
        "id": "ji6wnUDopysN",
        "outputId": "6f5122f1-dc03-4db4-df60-22b96dedda48"
      },
      "execution_count": 77,
      "outputs": [
        {
          "output_type": "stream",
          "name": "stdout",
          "text": [
            "[1, 4, 9, 16, 25]\n"
          ]
        }
      ]
    },
    {
      "cell_type": "code",
      "source": [
        "numbers = [6, 7, 8, 9, 10]\n",
        "cubed_numbers = [n ** 3 for n in numbers]\n",
        "print(cubed_numbers)"
      ],
      "metadata": {
        "colab": {
          "base_uri": "https://localhost:8080/"
        },
        "id": "lyUk49oOG3R6",
        "outputId": "4714af5f-06a5-4e90-9a54-2d8090db66f1"
      },
      "execution_count": 78,
      "outputs": [
        {
          "output_type": "stream",
          "name": "stdout",
          "text": [
            "[216, 343, 512, 729, 1000]\n"
          ]
        }
      ]
    },
    {
      "cell_type": "code",
      "source": [
        "# Extending a list\n",
        "more_fruits = [\"kiwi\", \"melon\"]\n",
        "fruits.extend(more_fruits)\n",
        "print(fruits)"
      ],
      "metadata": {
        "colab": {
          "base_uri": "https://localhost:8080/"
        },
        "id": "JvTcUVxlp3tl",
        "outputId": "a8bc683b-9aa4-4696-f0f6-7d7deeede657"
      },
      "execution_count": 79,
      "outputs": [
        {
          "output_type": "stream",
          "name": "stdout",
          "text": [
            "['orange', 'grape', 'banana', 'apple', 'kiwi', 'melon']\n"
          ]
        }
      ]
    },
    {
      "cell_type": "code",
      "source": [
        "vegetables = [\"carrot\", \"spinach\"]\n",
        "more_veggies = [\"broccoli\", \"pepper\"]\n",
        "vegetables.extend(more_veggies)\n",
        "print(vegetables)"
      ],
      "metadata": {
        "colab": {
          "base_uri": "https://localhost:8080/"
        },
        "id": "F7NGoxAOG9WS",
        "outputId": "8d1a6d81-a5f6-4aff-d9a2-938b00876e1d"
      },
      "execution_count": 80,
      "outputs": [
        {
          "output_type": "stream",
          "name": "stdout",
          "text": [
            "['carrot', 'spinach', 'broccoli', 'pepper']\n"
          ]
        }
      ]
    },
    {
      "cell_type": "code",
      "source": [
        "# List with different data types in nested lists\n",
        "mixed_nested_list = [[1, \"apple\", 3.14], [True, \"banana\", None], [False, 42, \"hello\"]]\n",
        "\n",
        "# Accessing elements\n",
        "print(mixed_nested_list[0])\n",
        "print(mixed_nested_list[1][1])\n",
        "print(mixed_nested_list[2][2])\n",
        "\n",
        "# Modifying an element in the nested list\n",
        "mixed_nested_list[2][0] = True\n",
        "print(mixed_nested_list)"
      ],
      "metadata": {
        "colab": {
          "base_uri": "https://localhost:8080/"
        },
        "id": "OW6x5DRFqEA-",
        "outputId": "55eec21e-a036-4159-ecd6-2a0cfc036326"
      },
      "execution_count": 81,
      "outputs": [
        {
          "output_type": "stream",
          "name": "stdout",
          "text": [
            "[1, 'apple', 3.14]\n",
            "banana\n",
            "hello\n",
            "[[1, 'apple', 3.14], [True, 'banana', None], [True, 42, 'hello']]\n"
          ]
        }
      ]
    },
    {
      "cell_type": "code",
      "source": [
        "mixed_nested_list = [[10, \"Red\", 3.1416], [True, \"Blue\", None], [False, 50, \"Yellow\"]]\n",
        "\n",
        "print(mixed_nested_list[0])\n",
        "print(mixed_nested_list[1][1])\n",
        "print(mixed_nested_list[2][2])\n",
        "\n",
        "mixed_nested_list[2][0] = True\n",
        "print(mixed_nested_list)"
      ],
      "metadata": {
        "colab": {
          "base_uri": "https://localhost:8080/"
        },
        "id": "r8DUHvVUHClj",
        "outputId": "170d0f0b-890b-4fba-eaa7-84ed279382ea"
      },
      "execution_count": 83,
      "outputs": [
        {
          "output_type": "stream",
          "name": "stdout",
          "text": [
            "[10, 'Red', 3.1416]\n",
            "Blue\n",
            "Yellow\n",
            "[[10, 'Red', 3.1416], [True, 'Blue', None], [True, 50, 'Yellow']]\n"
          ]
        }
      ]
    },
    {
      "cell_type": "markdown",
      "metadata": {
        "id": "7SDG91olRzmf"
      },
      "source": [
        "Lists also support operations like concatenation"
      ]
    },
    {
      "cell_type": "code",
      "execution_count": 84,
      "metadata": {
        "id": "yyLLhPTYRzmf",
        "outputId": "89d58acc-74e4-4b95-ac06-b1c743b07f85",
        "colab": {
          "base_uri": "https://localhost:8080/"
        }
      },
      "outputs": [
        {
          "output_type": "stream",
          "name": "stdout",
          "text": [
            "[1, 2, 3, 4, 5, 6]\n"
          ]
        }
      ],
      "source": [
        "# Two lists to concatenate\n",
        "list1 = [1, 2, 3]\n",
        "list2 = [4, 5, 6]\n",
        "\n",
        "# Concatenating the lists\n",
        "result = list1 + list2\n",
        "print(result)  # Output: [1, 2, 3, 4, 5, 6]"
      ]
    },
    {
      "cell_type": "code",
      "source": [
        "list1 = ['a', 'b', 'c']\n",
        "list2 = ['d', 'e', 'f']\n",
        "\n",
        "result = list1 + list2\n",
        "print(result)"
      ],
      "metadata": {
        "colab": {
          "base_uri": "https://localhost:8080/"
        },
        "id": "wfHEGOvVHuLl",
        "outputId": "2e75ea81-ef2f-46cd-a8c8-c1fea98534be"
      },
      "execution_count": 85,
      "outputs": [
        {
          "output_type": "stream",
          "name": "stdout",
          "text": [
            "['a', 'b', 'c', 'd', 'e', 'f']\n"
          ]
        }
      ]
    },
    {
      "cell_type": "markdown",
      "metadata": {
        "id": "TQ0Azt_2Rzmg"
      },
      "source": [
        "**Dictionary**\n",
        "<p style=\"text-align: justify\">Dictionaries are sometimes found in other languages as “associative memories” or “associative arrays”. Unlike sequences, which are indexed by a range of numbers, dictionaries are indexed by keys, which can be any immutable type; strings and numbers can always be keys.</p>\n",
        "\n",
        "<p style=\"text-align: justify\">It is best to think of a dictionary as a set of key: value pairs, with the requirement that the keys are unique (within one dictionary). A pair of braces creates an empty dictionary: {}. Placing a comma-separated list of key:value pairs within the braces adds initial key:value pairs to the dictionary; this is also the way dictionaries are written on output.</p>"
      ]
    },
    {
      "cell_type": "code",
      "execution_count": 86,
      "metadata": {
        "id": "re9nWSYYRzmg",
        "colab": {
          "base_uri": "https://localhost:8080/"
        },
        "outputId": "30c40fb3-5335-4f87-cb7c-1682f81b4f3a"
      },
      "outputs": [
        {
          "output_type": "stream",
          "name": "stdout",
          "text": [
            "{'name': 'John', 'age': 25, 'city': 'New York'}\n"
          ]
        }
      ],
      "source": [
        "# Using curly braces\n",
        "person = {\"name\": \"John\", \"age\": 25, \"city\": \"New York\"}\n",
        "\n",
        "# Using dict() constructor\n",
        "person2 = dict(name=\"Jane\", age=30, city=\"Los Angeles\")\n",
        "\n",
        "print(person)"
      ]
    },
    {
      "cell_type": "code",
      "source": [
        "car = {\"make\": \"Toyota\", \"model\": \"Corolla\", \"year\": 2020}\n",
        "car2 = dict(make=\"Honda\", model=\"Civic\", year=2022)\n",
        "\n",
        "print(car)"
      ],
      "metadata": {
        "colab": {
          "base_uri": "https://localhost:8080/"
        },
        "id": "qMfLXHwhH2su",
        "outputId": "8698d354-11ef-4fcd-84fe-01615e6d0743"
      },
      "execution_count": 87,
      "outputs": [
        {
          "output_type": "stream",
          "name": "stdout",
          "text": [
            "{'make': 'Toyota', 'model': 'Corolla', 'year': 2020}\n"
          ]
        }
      ]
    },
    {
      "cell_type": "code",
      "source": [
        "# Accessing a value using a key\n",
        "print(person[\"name\"])\n",
        "print(person2[\"age\"])\n",
        "\n",
        "# Using get() method (safe way to access values)\n",
        "print(person.get(\"city\"))\n",
        "print(person.get(\"country\", \"Not found\"))"
      ],
      "metadata": {
        "colab": {
          "base_uri": "https://localhost:8080/"
        },
        "id": "If-U0e50Ihle",
        "outputId": "36162676-f19f-4151-911d-014e475d5d79"
      },
      "execution_count": 88,
      "outputs": [
        {
          "output_type": "stream",
          "name": "stdout",
          "text": [
            "John\n",
            "30\n",
            "New York\n",
            "Not found\n"
          ]
        }
      ]
    },
    {
      "cell_type": "code",
      "source": [
        "# Accessing a value using a key\n",
        "print(car[\"make\"])\n",
        "print(car2[\"model\"])\n",
        "\n",
        "# Using get() method (safe way to access values)\n",
        "print(car.get(\"year\"))\n",
        "print(car.get(\"Registertion\", \"Not found\"))"
      ],
      "metadata": {
        "colab": {
          "base_uri": "https://localhost:8080/"
        },
        "id": "3PFDY6RIH-RW",
        "outputId": "3ae9be86-3d3e-4446-8d7c-0e3c6a08d41d"
      },
      "execution_count": 95,
      "outputs": [
        {
          "output_type": "stream",
          "name": "stdout",
          "text": [
            "2006\n",
            "Civic\n",
            "2020\n",
            "Not found\n"
          ]
        }
      ]
    },
    {
      "cell_type": "code",
      "execution_count": 91,
      "metadata": {
        "id": "2GNIumzqRzmg",
        "outputId": "20bc93c7-3221-4bac-e252-3488a1bd698d",
        "colab": {
          "base_uri": "https://localhost:8080/"
        }
      },
      "outputs": [
        {
          "output_type": "stream",
          "name": "stdout",
          "text": [
            "{'name': 'John', 'age': 25, 'city': 'New York', 'country': 'USA'}\n",
            "{'name': 'John', 'age': 26, 'city': 'New York', 'country': 'USA'}\n"
          ]
        }
      ],
      "source": [
        "# Adding a new key-value pair\n",
        "person[\"country\"] = \"USA\"\n",
        "print(person)\n",
        "\n",
        "# Updating an existing key-value pair\n",
        "person[\"age\"] = 26\n",
        "print(person)"
      ]
    },
    {
      "cell_type": "code",
      "source": [
        "car[\"country\"] = \"Japan\"\n",
        "print(car)\n",
        "\n",
        "# Updating an existing key-value pair\n",
        "car[\"make\"] = 2006\n",
        "print(car2)"
      ],
      "metadata": {
        "colab": {
          "base_uri": "https://localhost:8080/"
        },
        "id": "mJIG4mUeInmh",
        "outputId": "14290f7b-82ce-473d-8d18-4a94f4a45b7f"
      },
      "execution_count": 94,
      "outputs": [
        {
          "output_type": "stream",
          "name": "stdout",
          "text": [
            "{'make': 'Toyota', 'model': 'Corolla', 'year': 2020, 'country': 'Japan'}\n",
            "{'make': 'Honda', 'model': 'Civic', 'year': 2022}\n"
          ]
        }
      ]
    },
    {
      "cell_type": "code",
      "execution_count": 96,
      "metadata": {
        "id": "KzHZZf9ERzmg",
        "colab": {
          "base_uri": "https://localhost:8080/"
        },
        "outputId": "35fcec01-956e-477b-b8ad-9de4b9ace1a0"
      },
      "outputs": [
        {
          "output_type": "stream",
          "name": "stdout",
          "text": [
            "{'name': 'John', 'age': 26, 'country': 'USA'}\n",
            "{'name': 'John', 'country': 'USA'}\n",
            "26\n",
            "{'name': 'John'}\n",
            "('country', 'USA')\n"
          ]
        }
      ],
      "source": [
        "# Using del to remove a key-value pair\n",
        "del person[\"city\"]\n",
        "print(person)\n",
        "\n",
        "# Using pop() to remove a key-value pair and get the value\n",
        "age = person.pop(\"age\")\n",
        "print(person)\n",
        "print(age)\n",
        "\n",
        "# Using popitem() to remove and return the last key-value pair\n",
        "last_item = person.popitem()\n",
        "print(person)\n",
        "print(last_item)"
      ]
    },
    {
      "cell_type": "code",
      "source": [
        "del car[\"year\"]\n",
        "print(car)\n",
        "\n",
        "make = car.pop(\"make\")\n",
        "print(car)\n",
        "print(make)\n",
        "\n",
        "last_item = car.popitem()\n",
        "print(car)\n",
        "print(last_item)\n"
      ],
      "metadata": {
        "colab": {
          "base_uri": "https://localhost:8080/"
        },
        "id": "6CUSO9fDJDUD",
        "outputId": "8af1d6c6-7f47-475e-e3a8-cc3840d08bee"
      },
      "execution_count": 100,
      "outputs": [
        {
          "output_type": "stream",
          "name": "stdout",
          "text": [
            "{'make': 2006, 'model': 'Corolla', 'country': 'Japan'}\n",
            "{'model': 'Corolla', 'country': 'Japan'}\n",
            "2006\n",
            "{'model': 'Corolla'}\n",
            "('country', 'Japan')\n"
          ]
        }
      ]
    },
    {
      "cell_type": "code",
      "execution_count": 97,
      "metadata": {
        "id": "onihNMhoRzmg",
        "outputId": "67122d8a-e57a-43f8-a65c-e767a7b08e16",
        "colab": {
          "base_uri": "https://localhost:8080/"
        }
      },
      "outputs": [
        {
          "output_type": "stream",
          "name": "stdout",
          "text": [
            "True\n",
            "False\n"
          ]
        }
      ],
      "source": [
        "# Checking if a key exists\n",
        "print(\"name\" in person)\n",
        "print(\"age\" in person)"
      ]
    },
    {
      "cell_type": "code",
      "execution_count": 101,
      "metadata": {
        "id": "SII5SLdbRzmg",
        "outputId": "be460f04-d117-4105-bb6c-eb8a07ca79e9",
        "colab": {
          "base_uri": "https://localhost:8080/"
        }
      },
      "outputs": [
        {
          "output_type": "stream",
          "name": "stdout",
          "text": [
            "name\n",
            "John\n",
            "name John\n"
          ]
        }
      ],
      "source": [
        "# Iterating over keys\n",
        "for key in person:\n",
        "    print(key)\n",
        "\n",
        "# Iterating over values\n",
        "for value in person.values():\n",
        "    print(value)\n",
        "\n",
        "# Iterating over key-value pairs\n",
        "for key, value in person.items():\n",
        "    print(key, value)\n"
      ]
    },
    {
      "cell_type": "code",
      "source": [
        "for key in car:\n",
        "    print(key)\n",
        "\n",
        "for value in car.values():\n",
        "    print(value)\n",
        "\n",
        "for key, value in car.items():\n",
        "    print(key, value)\n"
      ],
      "metadata": {
        "colab": {
          "base_uri": "https://localhost:8080/"
        },
        "id": "ePtHDE9EJcWs",
        "outputId": "1eeb3848-d4a2-4078-e499-520699c497c8"
      },
      "execution_count": 102,
      "outputs": [
        {
          "output_type": "stream",
          "name": "stdout",
          "text": [
            "model\n",
            "Corolla\n",
            "model Corolla\n"
          ]
        }
      ]
    },
    {
      "cell_type": "markdown",
      "metadata": {
        "id": "4S_g-H7rRzmh"
      },
      "source": [
        "**Tuples and Sets**\n",
        "<br>Use the content from [here](https://docs.python.org/3/tutorial/datastructures.html#tuples-and-sequences) to follow some examples on tuple and set."
      ]
    },
    {
      "cell_type": "code",
      "execution_count": null,
      "metadata": {
        "id": "LpzjdV5RRzmh"
      },
      "outputs": [],
      "source": [
        "# code from here"
      ]
    },
    {
      "cell_type": "markdown",
      "metadata": {
        "id": "s235DeNcRzmf"
      },
      "source": [
        "<b> Exercise 1:</b> Implement stack using list\n",
        "<p><b>Hints:</b> The list methods make it very easy to use a list as a stack, where the last element added is the first element retrieved (“last-in, first-out”). To add an item to the top of the stack, use append(). To retrieve an item from the top of the stack, use pop() without an explicit index</p>"
      ]
    },
    {
      "cell_type": "code",
      "source": [
        "# Stack implementation using list\n",
        "\n",
        "stack = []\n",
        "\n",
        "# Add items to the stack\n",
        "stack.append('a')\n",
        "stack.append('b')\n",
        "stack.append('c')\n",
        "\n",
        "print(\"Stack after pushes:\", stack)\n",
        "\n",
        "# Remove items from the stack (LIFO)\n",
        "top_item = stack.pop()\n",
        "print(\"Popped item:\", top_item)\n",
        "print(\"Stack after pop:\", stack)\n",
        "\n",
        "# Pop remaining items\n",
        "while stack:\n",
        "    print(\"Popped:\", stack.pop())\n",
        "\n",
        "print(\"Stack is now empty:\", stack)\n"
      ],
      "metadata": {
        "id": "fgh96Xz5s0H-",
        "colab": {
          "base_uri": "https://localhost:8080/"
        },
        "outputId": "1332f197-16c3-4613-d9b8-03263da2f555"
      },
      "execution_count": 104,
      "outputs": [
        {
          "output_type": "stream",
          "name": "stdout",
          "text": [
            "Stack after pushes: ['a', 'b', 'c']\n",
            "Popped item: c\n",
            "Stack after pop: ['a', 'b']\n",
            "Popped: b\n",
            "Popped: a\n",
            "Stack is now empty: []\n"
          ]
        }
      ]
    },
    {
      "cell_type": "markdown",
      "metadata": {
        "id": "8IBYDynXRzmg"
      },
      "source": [
        "<b> Exercise 2:</b> Implement queue using list\n",
        "<p><b>Hints:</b> It is also possible to use a list as a queue, where the first element added is the first element retrieved (“first-in, first-out”)</p>"
      ]
    },
    {
      "cell_type": "code",
      "source": [
        "# Queue implementation using list\n",
        "\n",
        "queue = []\n",
        "\n",
        "# Enqueue items (add to the end)\n",
        "queue.append('a')\n",
        "queue.append('b')\n",
        "queue.append('c')\n",
        "\n",
        "print(\"Queue after enqueues:\", queue)\n",
        "\n",
        "# Dequeue items (remove from the front)\n",
        "first_item = queue.pop(0)\n",
        "print(\"Dequeued item:\", first_item)\n",
        "print(\"Queue after dequeue:\", queue)\n",
        "\n",
        "# Dequeue remaining items\n",
        "while queue:\n",
        "    print(\"Dequeued:\", queue.pop(0))\n",
        "\n",
        "print(\"Queue is now empty:\", queue)\n"
      ],
      "metadata": {
        "id": "CoNB27jps2I2",
        "colab": {
          "base_uri": "https://localhost:8080/"
        },
        "outputId": "bbd1a51f-abce-4ebd-b519-039f0da88ac3"
      },
      "execution_count": 105,
      "outputs": [
        {
          "output_type": "stream",
          "name": "stdout",
          "text": [
            "Queue after enqueues: ['a', 'b', 'c']\n",
            "Dequeued item: a\n",
            "Queue after dequeue: ['b', 'c']\n",
            "Dequeued: b\n",
            "Dequeued: c\n",
            "Queue is now empty: []\n"
          ]
        }
      ]
    },
    {
      "cell_type": "markdown",
      "metadata": {
        "id": "6-O7lD6gRzmh"
      },
      "source": [
        "<b> Exercise 3:</b> Define a dictionary to store the details of 3 persons. Also, print some data from the dictionary.\n",
        " <p><b>Hint:</b> You may require nesting dictionary, lists, string inside the dictionary.</p>"
      ]
    },
    {
      "cell_type": "code",
      "source": [
        "# Dictionary storing details of 3 persons\n",
        "people = {\n",
        "    \"person1\": {\n",
        "        \"name\": \"Alice\",\n",
        "        \"age\": 28,\n",
        "        \"hobbies\": [\"reading\", \"hiking\", \"coding\"],\n",
        "        \"address\": {\n",
        "            \"city\": \"New York\",\n",
        "            \"zip\": \"10001\"\n",
        "        }\n",
        "    },\n",
        "    \"person2\": {\n",
        "        \"name\": \"Bob\",\n",
        "        \"age\": 34,\n",
        "        \"hobbies\": [\"cooking\", \"traveling\"],\n",
        "        \"address\": {\n",
        "            \"city\": \"Los Angeles\",\n",
        "            \"zip\": \"90001\"\n",
        "        }\n",
        "    },\n",
        "    \"person3\": {\n",
        "        \"name\": \"Charlie\",\n",
        "        \"age\": 22,\n",
        "        \"hobbies\": [\"gaming\", \"cycling\"],\n",
        "        \"address\": {\n",
        "            \"city\": \"Chicago\",\n",
        "            \"zip\": \"60601\"\n",
        "        }\n",
        "    }\n",
        "}\n",
        "\n",
        "# Print name and city of person2\n",
        "print(f\"Name: {people['person2']['name']}, City: {people['person2']['address']['city']}\")\n",
        "\n",
        "# Print hobbies of person1\n",
        "print(f\"Hobbies of {people['person1']['name']}: {', '.join(people['person1']['hobbies'])}\")\n",
        "\n",
        "# Print age of person3\n",
        "print(f\"Age of {people['person3']['name']}: {people['person3']['age']}\")\n"
      ],
      "metadata": {
        "id": "T6JYZtq3s3zl",
        "colab": {
          "base_uri": "https://localhost:8080/"
        },
        "outputId": "3209414b-726c-43d6-d88e-61272c611d78"
      },
      "execution_count": 106,
      "outputs": [
        {
          "output_type": "stream",
          "name": "stdout",
          "text": [
            "Name: Bob, City: Los Angeles\n",
            "Hobbies of Alice: reading, hiking, coding\n",
            "Age of Charlie: 22\n"
          ]
        }
      ]
    },
    {
      "cell_type": "markdown",
      "source": [
        "# You may add more examples by yourself below"
      ],
      "metadata": {
        "id": "XFcnF_BQs5TF"
      }
    },
    {
      "cell_type": "code",
      "source": [
        "#CODE"
      ],
      "metadata": {
        "id": "ae5SVa9MtRte"
      },
      "execution_count": null,
      "outputs": []
    }
  ],
  "metadata": {
    "kernelspec": {
      "display_name": "Python 3",
      "language": "python",
      "name": "python3"
    },
    "language_info": {
      "codemirror_mode": {
        "name": "ipython",
        "version": 3
      },
      "file_extension": ".py",
      "mimetype": "text/x-python",
      "name": "python",
      "nbconvert_exporter": "python",
      "pygments_lexer": "ipython3",
      "version": "3.8.5"
    },
    "colab": {
      "provenance": []
    }
  },
  "nbformat": 4,
  "nbformat_minor": 0
}
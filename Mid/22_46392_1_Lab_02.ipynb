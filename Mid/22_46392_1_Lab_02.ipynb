{
  "cells": [
    {
      "cell_type": "markdown",
      "metadata": {
        "id": "gVdgbvf19OA9"
      },
      "source": [
        "# About this notebook\n",
        "<p style=\"text-align: justify\"> Here, you will learn the basic statements of python and function. Some codes will be given for demonstration. Some other codes, you will do as excercise.</p>\n",
        "\n",
        "## Submission\n",
        "<p style=\"text-align: justify\">After completing the practice codes and exercises, download the notebook (.pynb file) and submit the notebook  to MS Teams inbox in the class period</p>\n",
        "<p> 1.<b> You must submit your own code</b>. If similarity found negative marking will be given.</p>\n",
        "<p> 2. Modify the file name writing your ID at the beigining of the file name.</p><p> <b>Example: 20-45961-3 Lab 02.ipynb</b></p>\n",
        "<p> 3. Other file format (except .pynb) or link will not be accepted.</p>"
      ]
    },
    {
      "cell_type": "markdown",
      "metadata": {
        "id": "sVSQpyqT9OBH"
      },
      "source": [
        "# User Input"
      ]
    },
    {
      "cell_type": "code",
      "execution_count": 1,
      "metadata": {
        "colab": {
          "base_uri": "https://localhost:8080/"
        },
        "id": "JPTt3qbo9OBI",
        "outputId": "11f4c94c-74ff-4c58-bdb5-83b80aa5f53a"
      },
      "outputs": [
        {
          "output_type": "stream",
          "name": "stdout",
          "text": [
            "Enter your name: Safkat\n",
            "Hello, Safkat!\n"
          ]
        }
      ],
      "source": [
        "# Basic User Input\n",
        "name = input(\"Enter your name: \")\n",
        "print(\"Hello, \" + name + \"!\")"
      ]
    },
    {
      "cell_type": "code",
      "source": [
        "age = input(\"Enter your age: \")\n",
        "print(\"You are \" + age + \" years old.\")"
      ],
      "metadata": {
        "id": "6oF1upDt8IpB",
        "colab": {
          "base_uri": "https://localhost:8080/"
        },
        "outputId": "27b6afff-cea7-442d-fc1e-2ff9d3227358"
      },
      "execution_count": 2,
      "outputs": [
        {
          "output_type": "stream",
          "name": "stdout",
          "text": [
            "Enter your age: 45\n",
            "You are 45 years old.\n"
          ]
        }
      ]
    },
    {
      "cell_type": "code",
      "source": [
        "# Taking Integer Input\n",
        "age = int(input(\"Enter your age: \"))\n",
        "print(\"You will be\", age + 1, \"years old next year.\")"
      ],
      "metadata": {
        "id": "YCouIBhhorBO",
        "colab": {
          "base_uri": "https://localhost:8080/"
        },
        "outputId": "56da5f50-37f7-4e5d-9ee8-a77f7038e971"
      },
      "execution_count": null,
      "outputs": [
        {
          "output_type": "stream",
          "name": "stdout",
          "text": [
            "Enter your age: 23\n",
            "You will be 24 years old next year.\n"
          ]
        }
      ]
    },
    {
      "cell_type": "code",
      "source": [
        "number = int(input(\"Enter a number: \"))\n",
        "print(\"Double of your number is\", number * 2)"
      ],
      "metadata": {
        "colab": {
          "base_uri": "https://localhost:8080/"
        },
        "id": "5dNp1FLbP6F7",
        "outputId": "e85ec86b-49aa-4b2b-a04e-bc683ab6f315"
      },
      "execution_count": 3,
      "outputs": [
        {
          "output_type": "stream",
          "name": "stdout",
          "text": [
            "Enter a number: 10\n",
            "Double of your number is 20\n"
          ]
        }
      ]
    },
    {
      "cell_type": "code",
      "execution_count": 4,
      "metadata": {
        "colab": {
          "base_uri": "https://localhost:8080/"
        },
        "id": "WgnNFESa9OBL",
        "outputId": "49c2dca3-de20-4288-c0d8-6e842de5b0d6"
      },
      "outputs": [
        {
          "output_type": "stream",
          "name": "stdout",
          "text": [
            "Enter two numbers separated by space: 10 20\n",
            "Sum: 30\n"
          ]
        }
      ],
      "source": [
        "#Taking Multiple Inputs (Space-Separated)\n",
        "a, b = map(int, input(\"Enter two numbers separated by space: \").split())\n",
        "print(\"Sum:\", a + b)"
      ]
    },
    {
      "cell_type": "code",
      "source": [
        "x, y = map(int, input(\"Enter two numbers separated by space: \").split())\n",
        "print(\"Product:\", x * y)\n"
      ],
      "metadata": {
        "colab": {
          "base_uri": "https://localhost:8080/"
        },
        "id": "IZRsb4dMQA2y",
        "outputId": "08662879-ec09-42de-f9d9-87cad7396a03"
      },
      "execution_count": 8,
      "outputs": [
        {
          "output_type": "stream",
          "name": "stdout",
          "text": [
            "Enter two numbers separated by space: 10 30\n",
            "Product: 300\n"
          ]
        }
      ]
    },
    {
      "cell_type": "code",
      "execution_count": 9,
      "metadata": {
        "id": "qGfffqzZ9OBM",
        "colab": {
          "base_uri": "https://localhost:8080/"
        },
        "outputId": "9a04a9f3-f8d8-4bce-ab03-76e414b6ce5b"
      },
      "outputs": [
        {
          "output_type": "stream",
          "name": "stdout",
          "text": [
            "Enter numbers separated by space: 10 20\n",
            "You entered: [10, 20]\n"
          ]
        }
      ],
      "source": [
        "# List Input from User\n",
        "numbers = list(map(int, input(\"Enter numbers separated by space: \").split()))\n",
        "print(\"You entered:\", numbers)"
      ]
    },
    {
      "cell_type": "code",
      "source": [
        "words = input(\"Enter words separated by space: \").split()\n",
        "print(\"You entered:\", words)"
      ],
      "metadata": {
        "colab": {
          "base_uri": "https://localhost:8080/"
        },
        "id": "k4Ak9e4tQPJM",
        "outputId": "ad922c29-b42f-4eeb-e44f-512faaf894fe"
      },
      "execution_count": 10,
      "outputs": [
        {
          "output_type": "stream",
          "name": "stdout",
          "text": [
            "Enter words separated by space: Safkat Khan\n",
            "You entered: ['Safkat', 'Khan']\n"
          ]
        }
      ]
    },
    {
      "cell_type": "code",
      "source": [
        "# Handling Invalid Input (Using Try-Except)\n",
        "try:\n",
        "    num = int(input(\"Enter a number: \"))\n",
        "    print(\"Square of the number:\", num ** 2)\n",
        "except ValueError:\n",
        "    print(\"Invalid input! Please enter a valid number.\")\n"
      ],
      "metadata": {
        "colab": {
          "base_uri": "https://localhost:8080/"
        },
        "id": "66KPYYfXqq7a",
        "outputId": "2a2c3a96-b8c9-41ed-e27b-f4c598bbe1cf"
      },
      "execution_count": 12,
      "outputs": [
        {
          "output_type": "stream",
          "name": "stdout",
          "text": [
            "Enter a number: 10\n",
            "Square of the number: 100\n"
          ]
        }
      ]
    },
    {
      "cell_type": "code",
      "source": [
        "try:\n",
        "    n = int(input(\"Enter a number: \"))\n",
        "    print(\"Square:\", n ** 2)\n",
        "except ValueError:\n",
        "    print(\"Invalid input! Please enter a valid number.\")\n"
      ],
      "metadata": {
        "colab": {
          "base_uri": "https://localhost:8080/"
        },
        "id": "kQl9tIYDQiOE",
        "outputId": "df2d2399-c910-4c4c-ecbd-3d68b2a0cde1"
      },
      "execution_count": 11,
      "outputs": [
        {
          "output_type": "stream",
          "name": "stdout",
          "text": [
            "Enter a number: 10\n",
            "Square: 100\n"
          ]
        }
      ]
    },
    {
      "cell_type": "markdown",
      "metadata": {
        "id": "yd5uai6a9OBO"
      },
      "source": [
        "# if statement\n",
        "There can be zero or more elif parts, and the else part is optional. The keyword ‘elif’ is short for ‘else if’"
      ]
    },
    {
      "cell_type": "code",
      "source": [
        "# Basic if Statement\n",
        "age = int(input(\"Enter your age: \"))\n",
        "\n",
        "if age >= 18:\n",
        "    print(\"You are eligible to vote.\")\n"
      ],
      "metadata": {
        "id": "cqSEL09hbhkl",
        "colab": {
          "base_uri": "https://localhost:8080/"
        },
        "outputId": "7e4db189-95d3-4ff7-aac1-6865fe5b233f"
      },
      "execution_count": 16,
      "outputs": [
        {
          "name": "stdout",
          "output_type": "stream",
          "text": [
            "Enter your age: 10\n"
          ]
        }
      ]
    },
    {
      "cell_type": "code",
      "source": [
        "n = int(input(\"Enter a number: \"))\n",
        "\n",
        "if n > 0:\n",
        "    print(\"The number is positive.\")\n"
      ],
      "metadata": {
        "colab": {
          "base_uri": "https://localhost:8080/"
        },
        "id": "t5B9X75iQr7l",
        "outputId": "f92e5130-0b38-4dea-d418-4e30f7efdcf5"
      },
      "execution_count": 14,
      "outputs": [
        {
          "output_type": "stream",
          "name": "stdout",
          "text": [
            "Enter a number: 40\n",
            "The number is positive.\n"
          ]
        }
      ]
    },
    {
      "cell_type": "code",
      "execution_count": 17,
      "metadata": {
        "colab": {
          "base_uri": "https://localhost:8080/"
        },
        "id": "bkNWtGEA9OBP",
        "outputId": "50277326-3835-4952-cf67-49c7a41daa1b"
      },
      "outputs": [
        {
          "output_type": "stream",
          "name": "stdout",
          "text": [
            "Enter a number: 10\n",
            "The number is even.\n"
          ]
        }
      ],
      "source": [
        "#if-else Statement\n",
        "num = int(input(\"Enter a number: \"))\n",
        "\n",
        "if num % 2 == 0:\n",
        "  print(\"The number is even.\")\n",
        "else:\n",
        "  print(\"The number is odd.\")\n"
      ]
    },
    {
      "cell_type": "code",
      "source": [
        "num = int(input(\"Enter a number: \"))\n",
        "\n",
        "if num % 3 == 0:\n",
        "    print(\"The number is divisible by 3.\")\n",
        "else:\n",
        "    print(\"The number is not divisible by 3.\")"
      ],
      "metadata": {
        "colab": {
          "base_uri": "https://localhost:8080/"
        },
        "id": "ZkYtpZw2Q5A9",
        "outputId": "fd868d57-0d02-4c59-a87e-c80cca63dc3d"
      },
      "execution_count": 18,
      "outputs": [
        {
          "output_type": "stream",
          "name": "stdout",
          "text": [
            "Enter a number: 40\n",
            "The number is not divisible by 3.\n"
          ]
        }
      ]
    },
    {
      "cell_type": "code",
      "execution_count": 19,
      "metadata": {
        "colab": {
          "base_uri": "https://localhost:8080/"
        },
        "id": "4-2lHhfa9OBQ",
        "outputId": "c26b105f-1113-487b-a0fc-e96f190311d1"
      },
      "outputs": [
        {
          "output_type": "stream",
          "name": "stdout",
          "text": [
            "Enter your marks: 40\n",
            "Grade: F\n"
          ]
        }
      ],
      "source": [
        "# if-elif-else Statement\n",
        "marks = int(input(\"Enter your marks: \"))\n",
        "\n",
        "if marks >= 90:\n",
        "    print(\"Grade: A\")\n",
        "elif marks >= 80:\n",
        "    print(\"Grade: B\")\n",
        "elif marks >= 70:\n",
        "    print(\"Grade: C\")\n",
        "elif marks >= 60:\n",
        "    print(\"Grade: D\")\n",
        "else:\n",
        "    print(\"Grade: F\")\n"
      ]
    },
    {
      "cell_type": "code",
      "source": [
        "score = int(input(\"Enter your score: \"))\n",
        "\n",
        "if score >= 85:\n",
        "    print(\"Grade: Excellent\")\n",
        "elif score >= 70:\n",
        "    print(\"Grade: Good\")\n",
        "elif score >= 50:\n",
        "    print(\"Grade: Pass\")\n",
        "else:\n",
        "    print(\"Grade: Fail\")"
      ],
      "metadata": {
        "colab": {
          "base_uri": "https://localhost:8080/"
        },
        "id": "dvgWm8LZRBkW",
        "outputId": "d4c116bc-8c9f-4da1-e59c-e60a3479257f"
      },
      "execution_count": 20,
      "outputs": [
        {
          "output_type": "stream",
          "name": "stdout",
          "text": [
            "Enter your score: 75\n",
            "Grade: Good\n"
          ]
        }
      ]
    },
    {
      "cell_type": "code",
      "source": [
        "# Checking Multiple Conditions (and, or)\n",
        "temperature = float(input(\"Enter the temperature: \"))\n",
        "\n",
        "if temperature > 30 and temperature < 40:\n",
        "    print(\"It's a hot day.\")\n",
        "elif temperature >= 40:\n",
        "    print(\"It's extremely hot!\")\n",
        "else:\n",
        "    print(\"The weather is normal.\")\n"
      ],
      "metadata": {
        "colab": {
          "base_uri": "https://localhost:8080/"
        },
        "id": "2LqnpBbure3B",
        "outputId": "301b3cd3-af1c-4a3d-e42d-e80b8db584f6"
      },
      "execution_count": null,
      "outputs": [
        {
          "output_type": "stream",
          "name": "stdout",
          "text": [
            "Enter the temperature: 22\n",
            "The weather is normal.\n"
          ]
        }
      ]
    },
    {
      "cell_type": "code",
      "source": [
        "age = int(input(\"Enter your age: \"))\n",
        "\n",
        "if age >= 18 and age < 65:\n",
        "    print(\"You are an adult.\")\n",
        "elif age >= 65 or age < 18:\n",
        "    print(\"You are either a senior or a minor.\")\n",
        "else:\n",
        "    print(\"Invalid age.\")"
      ],
      "metadata": {
        "colab": {
          "base_uri": "https://localhost:8080/"
        },
        "id": "Z2uKIp_NRJGG",
        "outputId": "81f79ebf-c94c-460f-eace-2315b699a4c0"
      },
      "execution_count": 21,
      "outputs": [
        {
          "output_type": "stream",
          "name": "stdout",
          "text": [
            "Enter your age: 25\n",
            "You are an adult.\n"
          ]
        }
      ]
    },
    {
      "cell_type": "code",
      "source": [
        "# Nested if Statement\n",
        "num = int(input(\"Enter a number: \"))\n",
        "\n",
        "if num > 0:\n",
        "    print(\"The number is positive.\")\n",
        "    if num % 2 == 0:\n",
        "        print(\"It is also even.\")\n",
        "    else:\n",
        "        print(\"It is odd.\")\n",
        "elif num < 0:\n",
        "    print(\"The number is negative.\")\n",
        "else:\n",
        "    print(\"The number is zero.\")\n"
      ],
      "metadata": {
        "colab": {
          "base_uri": "https://localhost:8080/"
        },
        "id": "VaSAD9Z0rnGo",
        "outputId": "d8e1cdbd-8b96-40fe-abd1-fe247799eba8"
      },
      "execution_count": 22,
      "outputs": [
        {
          "output_type": "stream",
          "name": "stdout",
          "text": [
            "Enter a number: 50\n",
            "The number is positive.\n",
            "It is also even.\n"
          ]
        }
      ]
    },
    {
      "cell_type": "code",
      "source": [
        "grade = int(input(\"Enter your grade: \"))\n",
        "\n",
        "if grade >= 50:\n",
        "    print(\"You passed.\")\n",
        "    if grade >= 85:\n",
        "        print(\"Excellent performance!\")\n",
        "    else:\n",
        "        print(\"Good job, keep improving.\")\n",
        "else:\n",
        "    print(\"You failed. Try again.\")\n"
      ],
      "metadata": {
        "colab": {
          "base_uri": "https://localhost:8080/"
        },
        "id": "CT5IpmHHRPa_",
        "outputId": "c57665e1-ec58-4215-e860-9dcbabfaa153"
      },
      "execution_count": 23,
      "outputs": [
        {
          "output_type": "stream",
          "name": "stdout",
          "text": [
            "Enter your grade: 50\n",
            "You passed.\n",
            "Good job, keep improving.\n"
          ]
        }
      ]
    },
    {
      "cell_type": "markdown",
      "metadata": {
        "id": "BLPDtgWr9OBT"
      },
      "source": [
        "# for statement\n",
        "<p style=\"text-align: justify\">The for statement in Python differs a bit from what you may be used to in C or C++. Rather than always giving the user the ability to define both the iteration step and halting condition, Python’s for statement iterates over the items of any sequence (a list or a string), in the order that they appear in the sequence.</p>"
      ]
    },
    {
      "cell_type": "code",
      "execution_count": 25,
      "metadata": {
        "colab": {
          "base_uri": "https://localhost:8080/"
        },
        "id": "k6eiUKVF9OBU",
        "outputId": "40f2a04b-a91a-4d09-e08b-4f84d9907cfc"
      },
      "outputs": [
        {
          "output_type": "stream",
          "name": "stdout",
          "text": [
            "Iteration: 5\n",
            "Iteration: 6\n",
            "Iteration: 7\n",
            "Iteration: 8\n",
            "Iteration: 9\n"
          ]
        }
      ],
      "source": [
        "#Basic for Loop\n",
        "for i in range(5,10):\n",
        "    print(\"Iteration:\", i)\n"
      ]
    },
    {
      "cell_type": "code",
      "source": [
        "#Basic for Loop\n",
        "for i in range(10,21):\n",
        "    print(\"Iteration:\", i)\n"
      ],
      "metadata": {
        "colab": {
          "base_uri": "https://localhost:8080/"
        },
        "id": "lwJWX8stR7QL",
        "outputId": "3dcb78fc-3c5a-4230-ee71-9b614f1fb4b6"
      },
      "execution_count": 24,
      "outputs": [
        {
          "output_type": "stream",
          "name": "stdout",
          "text": [
            "Iteration: 10\n",
            "Iteration: 11\n",
            "Iteration: 12\n",
            "Iteration: 13\n",
            "Iteration: 14\n",
            "Iteration: 15\n",
            "Iteration: 16\n",
            "Iteration: 17\n",
            "Iteration: 18\n",
            "Iteration: 19\n",
            "Iteration: 20\n"
          ]
        }
      ]
    },
    {
      "cell_type": "code",
      "source": [
        "# for Loop Over a List\n",
        "fruits = [\"Apple\", \"Banana\", \"Cherry\"]\n",
        "\n",
        "for fruit in fruits:\n",
        "    print(fruit)\n"
      ],
      "metadata": {
        "colab": {
          "base_uri": "https://localhost:8080/"
        },
        "id": "-FTCswVpc4Dd",
        "outputId": "69f75b02-d070-4c18-9edc-7496098024c5"
      },
      "execution_count": 26,
      "outputs": [
        {
          "output_type": "stream",
          "name": "stdout",
          "text": [
            "Apple\n",
            "Banana\n",
            "Cherry\n"
          ]
        }
      ]
    },
    {
      "cell_type": "code",
      "source": [
        "# for Loop Over a List\n",
        "colours = [\"Red\", \"Green\", \"Blue\"]\n",
        "\n",
        "for colour in colours:\n",
        "    print(colour)\n"
      ],
      "metadata": {
        "colab": {
          "base_uri": "https://localhost:8080/"
        },
        "id": "t2FToK9wSE1i",
        "outputId": "944fca6d-69cb-4613-8ab8-605bc506f451"
      },
      "execution_count": 27,
      "outputs": [
        {
          "output_type": "stream",
          "name": "stdout",
          "text": [
            "Red\n",
            "Green\n",
            "Blue\n"
          ]
        }
      ]
    },
    {
      "cell_type": "code",
      "source": [
        "# Looping Through a String\n",
        "word = \"Python\"\n",
        "\n",
        "for char in word:\n",
        "    print(char)\n"
      ],
      "metadata": {
        "colab": {
          "base_uri": "https://localhost:8080/"
        },
        "id": "NdM3WOnovXx2",
        "outputId": "a19b234e-aca1-48cd-9ea9-9da0dac6a198"
      },
      "execution_count": 28,
      "outputs": [
        {
          "output_type": "stream",
          "name": "stdout",
          "text": [
            "P\n",
            "y\n",
            "t\n",
            "h\n",
            "o\n",
            "n\n"
          ]
        }
      ]
    },
    {
      "cell_type": "code",
      "source": [
        "word = \"Programing\"\n",
        "\n",
        "for char in word:\n",
        "    print(char)\n"
      ],
      "metadata": {
        "colab": {
          "base_uri": "https://localhost:8080/"
        },
        "id": "wPtY5j6mSS4D",
        "outputId": "c255831f-bd90-4201-f32f-cbd21a107c64"
      },
      "execution_count": 29,
      "outputs": [
        {
          "output_type": "stream",
          "name": "stdout",
          "text": [
            "P\n",
            "r\n",
            "o\n",
            "g\n",
            "r\n",
            "a\n",
            "m\n",
            "i\n",
            "n\n",
            "g\n"
          ]
        }
      ]
    },
    {
      "cell_type": "code",
      "source": [
        "# Looping with range(start, stop, step)\n",
        "for i in range(2, 10, 4):\n",
        "    print(i)\n"
      ],
      "metadata": {
        "colab": {
          "base_uri": "https://localhost:8080/"
        },
        "id": "B-5xBavXMl2m",
        "outputId": "62a9cd32-5dc6-4612-a7b8-38b61b579337"
      },
      "execution_count": 30,
      "outputs": [
        {
          "output_type": "stream",
          "name": "stdout",
          "text": [
            "2\n",
            "6\n"
          ]
        }
      ]
    },
    {
      "cell_type": "code",
      "source": [
        "for i in range(5, 16, 5):\n",
        "    print(i)\n"
      ],
      "metadata": {
        "colab": {
          "base_uri": "https://localhost:8080/"
        },
        "id": "fALPlaUmSYzU",
        "outputId": "e0ebd355-1981-484e-f54d-45265dc24c65"
      },
      "execution_count": 32,
      "outputs": [
        {
          "output_type": "stream",
          "name": "stdout",
          "text": [
            "5\n",
            "10\n",
            "15\n"
          ]
        }
      ]
    },
    {
      "cell_type": "code",
      "source": [
        "# Looping Over a Dictionary\n",
        "student = {\"name\": \"Alice\", \"age\": 20, \"grade\": \"A\"}\n",
        "\n",
        "for key, value in student.items():\n",
        "    print(key, \":\", value)\n"
      ],
      "metadata": {
        "colab": {
          "base_uri": "https://localhost:8080/"
        },
        "id": "-XYDNRM5M6vy",
        "outputId": "4aacf97d-c921-4689-d4ef-0c7909f1a694"
      },
      "execution_count": null,
      "outputs": [
        {
          "output_type": "stream",
          "name": "stdout",
          "text": [
            "name : Alice\n",
            "age : 20\n",
            "grade : A\n"
          ]
        }
      ]
    },
    {
      "cell_type": "code",
      "source": [
        "car = {\"name\": \"Supra\", \"model\":2006, \"color\": \"Red\"}\n",
        "\n",
        "for key, value in car.items():\n",
        "    print(key, \":\", value)\n"
      ],
      "metadata": {
        "colab": {
          "base_uri": "https://localhost:8080/"
        },
        "id": "DkwBasZxSiec",
        "outputId": "260f5337-0b59-4443-b570-603e99d1b28a"
      },
      "execution_count": 35,
      "outputs": [
        {
          "output_type": "stream",
          "name": "stdout",
          "text": [
            "name : Supra\n",
            "model : 2006\n",
            "color : Red\n"
          ]
        }
      ]
    },
    {
      "cell_type": "code",
      "source": [
        "# Using for Loop with enumerate()\n",
        "colors = [\"Red\", \"Green\", \"Blue\"]\n",
        "\n",
        "for index, color in enumerate(colors):\n",
        "    print(index, \":\", color)\n"
      ],
      "metadata": {
        "colab": {
          "base_uri": "https://localhost:8080/"
        },
        "id": "lwn8tUUxNFbv",
        "outputId": "54d9977d-8561-4064-ea65-ae81b084dc91"
      },
      "execution_count": 36,
      "outputs": [
        {
          "output_type": "stream",
          "name": "stdout",
          "text": [
            "0 : Red\n",
            "1 : Green\n",
            "2 : Blue\n"
          ]
        }
      ]
    },
    {
      "cell_type": "code",
      "source": [
        "# Using for Loop with enumerate()\n",
        "colors = [\"Red\", \"Green\", \"Blue\"]\n",
        "\n",
        "for index, color in enumerate(colors):\n",
        "    print(index, \":\", color)\n"
      ],
      "metadata": {
        "colab": {
          "base_uri": "https://localhost:8080/"
        },
        "id": "2bvL-4weS17e",
        "outputId": "14c345da-3e69-456d-d680-68f9d571a7ee"
      },
      "execution_count": 37,
      "outputs": [
        {
          "output_type": "stream",
          "name": "stdout",
          "text": [
            "0 : Red\n",
            "1 : Green\n",
            "2 : Blue\n"
          ]
        }
      ]
    },
    {
      "cell_type": "code",
      "source": [
        "# Nested for Loop\n",
        "for i in range(1, 4):\n",
        "    for j in range(1, 4):\n",
        "        print(f\"i={i}, j={j}\")\n"
      ],
      "metadata": {
        "colab": {
          "base_uri": "https://localhost:8080/"
        },
        "id": "7V6W6i6ysOm6",
        "outputId": "ff52a1f4-c0d0-4c31-e880-f01b012fdaf9"
      },
      "execution_count": 38,
      "outputs": [
        {
          "output_type": "stream",
          "name": "stdout",
          "text": [
            "i=1, j=1\n",
            "i=1, j=2\n",
            "i=1, j=3\n",
            "i=2, j=1\n",
            "i=2, j=2\n",
            "i=2, j=3\n",
            "i=3, j=1\n",
            "i=3, j=2\n",
            "i=3, j=3\n"
          ]
        }
      ]
    },
    {
      "cell_type": "code",
      "source": [
        "# Nested for Loop\n",
        "for i in range(1, 9):\n",
        "    for j in range(1, 8):\n",
        "        print(f\"i={i}, j={j}\")\n"
      ],
      "metadata": {
        "colab": {
          "base_uri": "https://localhost:8080/"
        },
        "id": "DJrwSYhsf50G",
        "outputId": "f9eac9b7-30c1-4b85-df3e-41cda51a9449"
      },
      "execution_count": 39,
      "outputs": [
        {
          "output_type": "stream",
          "name": "stdout",
          "text": [
            "i=1, j=1\n",
            "i=1, j=2\n",
            "i=1, j=3\n",
            "i=1, j=4\n",
            "i=1, j=5\n",
            "i=1, j=6\n",
            "i=1, j=7\n",
            "i=2, j=1\n",
            "i=2, j=2\n",
            "i=2, j=3\n",
            "i=2, j=4\n",
            "i=2, j=5\n",
            "i=2, j=6\n",
            "i=2, j=7\n",
            "i=3, j=1\n",
            "i=3, j=2\n",
            "i=3, j=3\n",
            "i=3, j=4\n",
            "i=3, j=5\n",
            "i=3, j=6\n",
            "i=3, j=7\n",
            "i=4, j=1\n",
            "i=4, j=2\n",
            "i=4, j=3\n",
            "i=4, j=4\n",
            "i=4, j=5\n",
            "i=4, j=6\n",
            "i=4, j=7\n",
            "i=5, j=1\n",
            "i=5, j=2\n",
            "i=5, j=3\n",
            "i=5, j=4\n",
            "i=5, j=5\n",
            "i=5, j=6\n",
            "i=5, j=7\n",
            "i=6, j=1\n",
            "i=6, j=2\n",
            "i=6, j=3\n",
            "i=6, j=4\n",
            "i=6, j=5\n",
            "i=6, j=6\n",
            "i=6, j=7\n",
            "i=7, j=1\n",
            "i=7, j=2\n",
            "i=7, j=3\n",
            "i=7, j=4\n",
            "i=7, j=5\n",
            "i=7, j=6\n",
            "i=7, j=7\n",
            "i=8, j=1\n",
            "i=8, j=2\n",
            "i=8, j=3\n",
            "i=8, j=4\n",
            "i=8, j=5\n",
            "i=8, j=6\n",
            "i=8, j=7\n"
          ]
        }
      ]
    },
    {
      "cell_type": "code",
      "source": [
        "# for Loop with break and continue\n",
        "for num in range(1, 6):\n",
        "    if num == 3:\n",
        "        continue  # Skips 3\n",
        "    if num == 5:\n",
        "        break  # Stops loop at 5\n",
        "    print(num)\n"
      ],
      "metadata": {
        "colab": {
          "base_uri": "https://localhost:8080/"
        },
        "id": "eljpCkgZsSGK",
        "outputId": "f5718519-b1ff-445a-db3d-595b1f6452c5"
      },
      "execution_count": 40,
      "outputs": [
        {
          "output_type": "stream",
          "name": "stdout",
          "text": [
            "1\n",
            "2\n",
            "4\n"
          ]
        }
      ]
    },
    {
      "cell_type": "code",
      "source": [
        "for num in range(1, 9):\n",
        "    if num == 4:\n",
        "        continue  # Skips 3\n",
        "    if num == 6:\n",
        "        break  # Stops loop at 5\n",
        "    print(num)\n"
      ],
      "metadata": {
        "colab": {
          "base_uri": "https://localhost:8080/"
        },
        "id": "MsCTCsd0f-fF",
        "outputId": "fefd19e3-c030-43dd-b5b4-cc3e72a80084"
      },
      "execution_count": 41,
      "outputs": [
        {
          "output_type": "stream",
          "name": "stdout",
          "text": [
            "1\n",
            "2\n",
            "3\n",
            "5\n"
          ]
        }
      ]
    },
    {
      "cell_type": "markdown",
      "metadata": {
        "id": "UpWE7Kch9OBd"
      },
      "source": [
        "# Functions\n",
        "<p style=\"text-align: justify\">The keyword def introduces a function definition. It must be followed by the function name and the parenthesized list of formal parameters. The statements that form the body of the function start at the next line, and must be indented.</p>"
      ]
    },
    {
      "cell_type": "code",
      "source": [
        "# Basic Function (No Parameters, No Return)\n",
        "def greet():\n",
        "    print(\"Hello, Welcome to Python!\")\n",
        "\n",
        "greet()  # Calling the function\n"
      ],
      "metadata": {
        "colab": {
          "base_uri": "https://localhost:8080/"
        },
        "id": "6ewe2yQXso3A",
        "outputId": "c9bc23e8-b7e4-4ef2-c624-a1920e710652"
      },
      "execution_count": 43,
      "outputs": [
        {
          "output_type": "stream",
          "name": "stdout",
          "text": [
            "Hello, Welcome to Python!\n"
          ]
        }
      ]
    },
    {
      "cell_type": "code",
      "source": [
        "def greet():\n",
        "    print(\"Hello, Welcome!\")\n",
        "\n",
        "greet()  # Calling the function\n"
      ],
      "metadata": {
        "colab": {
          "base_uri": "https://localhost:8080/"
        },
        "id": "5ENEA197gGZW",
        "outputId": "5b3e9949-47ba-42eb-afb0-edc6d0b9d77d"
      },
      "execution_count": 44,
      "outputs": [
        {
          "output_type": "stream",
          "name": "stdout",
          "text": [
            "Hello, Welcome!\n"
          ]
        }
      ]
    },
    {
      "cell_type": "code",
      "source": [
        "# Function with Parameters\n",
        "def add_numbers(a, b):\n",
        "    print(\"Sum:\", a + b)\n",
        "\n",
        "add_numbers('5', '7')  # Output: Sum: 8\n"
      ],
      "metadata": {
        "colab": {
          "base_uri": "https://localhost:8080/"
        },
        "id": "Eva9fj0esshV",
        "outputId": "7f163af6-8b73-4532-aca4-863595adafb7"
      },
      "execution_count": 42,
      "outputs": [
        {
          "output_type": "stream",
          "name": "stdout",
          "text": [
            "Sum: 57\n"
          ]
        }
      ]
    },
    {
      "cell_type": "code",
      "source": [
        "def add_numbers(a, b):\n",
        "    print(\"Sum:\", a + b)\n",
        "\n",
        "add_numbers('5', '9')"
      ],
      "metadata": {
        "colab": {
          "base_uri": "https://localhost:8080/"
        },
        "id": "Z0o-m6pCgLAo",
        "outputId": "66d4cc80-4724-4617-f62f-bba75abfc4a7"
      },
      "execution_count": 45,
      "outputs": [
        {
          "output_type": "stream",
          "name": "stdout",
          "text": [
            "Sum: 59\n"
          ]
        }
      ]
    },
    {
      "cell_type": "code",
      "source": [
        "add_numbers('ad','am')"
      ],
      "metadata": {
        "colab": {
          "base_uri": "https://localhost:8080/"
        },
        "id": "sZ2JmnznzEMz",
        "outputId": "8335d665-5c65-4071-9eb0-1503d4fad9c6"
      },
      "execution_count": 46,
      "outputs": [
        {
          "output_type": "stream",
          "name": "stdout",
          "text": [
            "Sum: adam\n"
          ]
        }
      ]
    },
    {
      "cell_type": "code",
      "source": [
        "add_numbers('ad','me')"
      ],
      "metadata": {
        "colab": {
          "base_uri": "https://localhost:8080/"
        },
        "id": "mVRVjmBxgOMO",
        "outputId": "c4648bf9-b4d3-46a2-cd7c-f9571f26c2a8"
      },
      "execution_count": 47,
      "outputs": [
        {
          "output_type": "stream",
          "name": "stdout",
          "text": [
            "Sum: adme\n"
          ]
        }
      ]
    },
    {
      "cell_type": "code",
      "source": [
        "# Function with Return Value\n",
        "def multiply(a, b):\n",
        "    return a * b\n",
        "\n",
        "result = multiply(4, 5)\n",
        "print(\"Multiplication:\", result)  # Output: 20\n"
      ],
      "metadata": {
        "colab": {
          "base_uri": "https://localhost:8080/"
        },
        "id": "qvT9R8yLs07w",
        "outputId": "592a53d7-f5be-4602-aed3-b190b1c56ffa"
      },
      "execution_count": 48,
      "outputs": [
        {
          "output_type": "stream",
          "name": "stdout",
          "text": [
            "Multiplication: 20\n"
          ]
        }
      ]
    },
    {
      "cell_type": "code",
      "source": [
        "# Function with Default Parameter\n",
        "def greet(name=\"Guest\"):\n",
        "    print(\"Hello,\", name)\n",
        "\n",
        "greet()          # Output: Hello, Guest\n",
        "greet(\"Alice\")   # Output: Hello, Alice\n"
      ],
      "metadata": {
        "colab": {
          "base_uri": "https://localhost:8080/"
        },
        "id": "n2Hmd9kZs50X",
        "outputId": "396c0dcf-0685-4c8b-d5ae-2aa54b542d0a"
      },
      "execution_count": 49,
      "outputs": [
        {
          "output_type": "stream",
          "name": "stdout",
          "text": [
            "Hello, Guest\n",
            "Hello, Alice\n"
          ]
        }
      ]
    },
    {
      "cell_type": "code",
      "source": [
        "# Function with Multiple Return Values\n",
        "def get_square_and_cube(n):\n",
        "    return n**2, n**3\n",
        "\n",
        "square, cube = get_square_and_cube(3)\n",
        "print(\"Square:\", square, \"Cube:\", cube)  # Output: Square: 9, Cube: 27\n"
      ],
      "metadata": {
        "colab": {
          "base_uri": "https://localhost:8080/"
        },
        "id": "H7O-H8mbtBSM",
        "outputId": "e6afd83d-c5a3-4932-84ab-d86beaae0d17"
      },
      "execution_count": null,
      "outputs": [
        {
          "output_type": "stream",
          "name": "stdout",
          "text": [
            "Square: 9 Cube: 27\n"
          ]
        }
      ]
    },
    {
      "cell_type": "code",
      "source": [
        "# Function Using *args (Multiple Arguments)\n",
        "def add_all(*numbers):\n",
        "    return sum(numbers)\n",
        "\n",
        "print(add_all(1, 2, 3, 4, 5))  # Output: 15\n"
      ],
      "metadata": {
        "colab": {
          "base_uri": "https://localhost:8080/"
        },
        "id": "kIdmOaxitGAR",
        "outputId": "90a0d380-9fdc-467f-ed75-02bcf4c6c9c4"
      },
      "execution_count": null,
      "outputs": [
        {
          "output_type": "stream",
          "name": "stdout",
          "text": [
            "15\n"
          ]
        }
      ]
    },
    {
      "cell_type": "markdown",
      "source": [
        "<b>Exercise 1:</b> Write a Python program to find the sum of the first N natural numbers using a for loop.<br>\n",
        "Example:<br>\n",
        "Input: N = 5  \n",
        "Output: 15\n"
      ],
      "metadata": {
        "id": "CVf1xuAst3a6"
      }
    },
    {
      "cell_type": "code",
      "source": [
        "N = int(input(\"Enter a number: \"))\n",
        "total = 0\n",
        "\n",
        "for i in range(1, N + 1):\n",
        "    total += i\n",
        "\n",
        "print(\"Sum of first\", N, \"natural numbers is:\", total)\n"
      ],
      "metadata": {
        "id": "iRWd9j10t_sq",
        "colab": {
          "base_uri": "https://localhost:8080/"
        },
        "outputId": "166178b0-e8b9-42d3-92be-19d01f38633c"
      },
      "execution_count": 50,
      "outputs": [
        {
          "output_type": "stream",
          "name": "stdout",
          "text": [
            "Enter a number: 5\n",
            "Sum of first 5 natural numbers is: 15\n"
          ]
        }
      ]
    },
    {
      "cell_type": "markdown",
      "source": [
        "<b>Exercise 2:</b> Write a Python program that reverses a string using a for loop.<br>\n",
        "Example: <br>\n",
        "Input: \"Python\"  \n",
        "Output: \"nohtyP\"\n"
      ],
      "metadata": {
        "id": "xT01zayjuYue"
      }
    },
    {
      "cell_type": "code",
      "source": [
        "text = input(\"Enter a string: \")\n",
        "reversed_text = \"\"\n",
        "\n",
        "for char in text:\n",
        "    reversed_text = char + reversed_text\n",
        "\n",
        "print(\"Reversed string:\", reversed_text)\n"
      ],
      "metadata": {
        "id": "rr5KvZkkuxi4"
      },
      "execution_count": null,
      "outputs": []
    },
    {
      "cell_type": "markdown",
      "metadata": {
        "id": "ICNPFsDQ9OBh"
      },
      "source": [
        "<b>Exercise 3:</b> Define a <b>method/function</b> which will take two lists of numbers and returns a list (sum of two lists)\n",
        "<p>Example:<br>\n",
        "    Input: [3,4,5,1] and [6,7,2,8]<br>\n",
        "    output: [9,11,7,9]</p>\n"
      ]
    },
    {
      "cell_type": "code",
      "execution_count": null,
      "metadata": {
        "id": "5MPMcHnz9OBi"
      },
      "outputs": [],
      "source": [
        "def sum_lists(list1, list2):\n",
        "    result = []\n",
        "    for i in range(len(list1)):\n",
        "        result.append(list1[i] + list2[i])\n",
        "    return result\n",
        "\n",
        "# Example usage\n",
        "list1 = [3, 4, 5, 1]\n",
        "list2 = [6, 7, 2, 8]\n",
        "\n",
        "output = sum_lists(list1, list2)\n",
        "print(output)  # Output: [9, 11, 7, 9]"
      ]
    },
    {
      "cell_type": "markdown",
      "metadata": {
        "id": "DSjaC86G9OBi"
      },
      "source": [
        "<b> Exercise 4:</b> Write a <b>method</b> which will take the <b>full name</b> as input and return both the first name and last name.\n",
        "<p>Example:<br>\n",
        "    Input: Arafat Rahman Sunny<br>\n",
        "    Output: First name: Arafat, Last name: Sunny</p>"
      ]
    },
    {
      "cell_type": "code",
      "execution_count": null,
      "metadata": {
        "id": "HCpI48lj9OBi"
      },
      "outputs": [],
      "source": [
        "def get_first_last_name(full_name):\n",
        "    parts = full_name.split()\n",
        "    first_name = parts[0]\n",
        "    last_name = parts[-1]\n",
        "    return first_name, last_name\n",
        "\n",
        "# Example usage\n",
        "full_name = input(\"Enter your full name: \")\n",
        "first, last = get_first_last_name(full_name)\n",
        "print(f\"First name: {first}, Last name: {last}\")\n"
      ]
    },
    {
      "cell_type": "markdown",
      "source": [
        "**Do More Exercises**"
      ],
      "metadata": {
        "id": "5sptH6NJu6CD"
      }
    }
  ],
  "metadata": {
    "kernelspec": {
      "display_name": "Python 3",
      "language": "python",
      "name": "python3"
    },
    "language_info": {
      "codemirror_mode": {
        "name": "ipython",
        "version": 3
      },
      "file_extension": ".py",
      "mimetype": "text/x-python",
      "name": "python",
      "nbconvert_exporter": "python",
      "pygments_lexer": "ipython3",
      "version": "3.8.5"
    },
    "colab": {
      "provenance": []
    }
  },
  "nbformat": 4,
  "nbformat_minor": 0
}
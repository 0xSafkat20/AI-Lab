{
  "cells": [
    {
      "cell_type": "markdown",
      "metadata": {
        "id": "i9cjHABdo20A"
      },
      "source": [
        "# N Queen Attack Detection"
      ]
    },
    {
      "cell_type": "code",
      "source": [
        "import matplotlib.pyplot as plt\n",
        "\n",
        "def drawBoard(P):\n",
        "  n = len(P)\n",
        "  # Create a figure and axes\n",
        "  fig, ax = plt.subplots()\n",
        "\n",
        "  # Set axis limits and aspect ratio\n",
        "  ax.set_xlim(0, n)\n",
        "  ax.set_ylim(0, n)\n",
        "  ax.set_aspect('equal')\n",
        "\n",
        "  # Turn off axis ticks and labels\n",
        "  ax.set_xticks([])\n",
        "  ax.set_yticks([])\n",
        "\n",
        "  # Draw the board grid\n",
        "  for i in range(n + 1):\n",
        "      ax.plot([0, n], [i, i], 'k-', linewidth=2) # Horizontal lines\n",
        "      ax.plot([i, i], [0, n], 'k-', linewidth=2) # Vertical lines\n",
        "\n",
        "  # Place queens\n",
        "  for i in range(n):\n",
        "    row, col = P[i]\n",
        "    # Adjust for visual centering\n",
        "    ax.text(col - 0.5 , n - row + 0.5, 'Q'+str(i + 1), ha='center', va='center', fontsize=12, color='red', weight='bold')\n",
        "\n",
        "  # Show the plot\n",
        "  plt.show()"
      ],
      "metadata": {
        "id": "xtRLJ4fTw5Kg"
      },
      "execution_count": null,
      "outputs": []
    },
    {
      "cell_type": "code",
      "source": [
        "import random\n",
        "def generatePositions(n = 4):\n",
        "  pos = []\n",
        "  numbers  = random.sample(range(1,n*n), n)\n",
        "  for v in numbers:\n",
        "    pos.append((v//n+1,v%n+1))\n",
        "  return pos\n",
        "\n",
        "positions = generatePositions()\n",
        "drawBoard(positions)"
      ],
      "metadata": {
        "colab": {
          "base_uri": "https://localhost:8080/",
          "height": 406
        },
        "id": "clDjQt2kyB3L",
        "outputId": "fb7e4459-a49c-4b7b-d938-1d8280c56c7a"
      },
      "execution_count": null,
      "outputs": [
        {
          "output_type": "display_data",
          "data": {
            "text/plain": [
              "<Figure size 640x480 with 1 Axes>"
            ],
            "image/png": "[encoded data removed]"
          },
          "metadata": {}
        }
      ]
    },
    {
      "cell_type": "code",
      "execution_count": null,
      "metadata": {
        "colab": {
          "base_uri": "https://localhost:8080/"
        },
        "id": "IEMPCDhEo20N",
        "outputId": "ce45ee72-94c2-4703-ecc2-0146ce994592"
      },
      "outputs": [
        {
          "output_type": "stream",
          "name": "stdout",
          "text": [
            "row attack:Q2(4, 1) and Q3(4, 4)\n"
          ]
        },
        {
          "output_type": "execute_result",
          "data": {
            "text/plain": [
              "1"
            ]
          },
          "metadata": {},
          "execution_count": 14
        }
      ],
      "source": [
        "# row attack\n",
        "def rowAttacK(P):\n",
        "  count = 0\n",
        "  for i, (rowi , _) in enumerate(P):\n",
        "    for j in range(i+1,len(P)):\n",
        "      if  rowi == P[j][0]:\n",
        "        print(f'row attack:Q{i+1}{P[i]} and Q{j+1}{P[j]}')\n",
        "        count += 1\n",
        "  return count\n",
        "\n",
        "rowAttacK(positions)"
      ]
    },
    {
      "cell_type": "code",
      "execution_count": null,
      "metadata": {
        "id": "KLBRaUNOo20O",
        "colab": {
          "base_uri": "https://localhost:8080/"
        },
        "outputId": "c2298c8e-901c-44a1-a8aa-61d55ba25cc4"
      },
      "outputs": [
        {
          "output_type": "stream",
          "name": "stdout",
          "text": [
            "column attack:Q1(1, 4) and Q3(4, 4)\n",
            "Column 1\n"
          ]
        }
      ],
      "source": [
        "#column attack\n",
        "def columnAttack(P):\n",
        "    count = 0\n",
        "    for i, (_, coli) in enumerate(P):\n",
        "        for j in range(i+1, len(P)):\n",
        "            if coli == P[j][1]:\n",
        "                print(f'column attack:Q{i+1}{P[i]} and Q{j+1}{P[j]}')\n",
        "                count += 1\n",
        "    return count\n",
        "\n",
        "print(\"Column\", columnAttack(positions))"
      ]
    },
    {
      "cell_type": "code",
      "execution_count": null,
      "metadata": {
        "id": "Bmw-Teqio20P",
        "colab": {
          "base_uri": "https://localhost:8080/"
        },
        "outputId": "521ae7ab-091d-4fb6-f19f-9f0473a21bee"
      },
      "outputs": [
        {
          "output_type": "stream",
          "name": "stdout",
          "text": [
            "diagonal attack:Q1(1, 4) and Q2(4, 1)\n",
            "diagonal attack:Q3(4, 4) and Q4(2, 2)\n",
            "diagonal 2\n"
          ]
        }
      ],
      "source": [
        "# diagonal atack\n",
        "def diagonalAttack(P):\n",
        "    count = 0\n",
        "    for i, (rowi, coli) in enumerate(P):\n",
        "        for j in range(i+1, len(P)):\n",
        "            rowj, colj = P[j]\n",
        "            if rowi - coli == rowj - colj or rowi + coli == rowj + colj:\n",
        "                print(f'diagonal attack:Q{i+1}{P[i]} and Q{j+1}{P[j]}')\n",
        "                count += 1\n",
        "    return count\n",
        "\n",
        "print(\"diagonal\", diagonalAttack(positions))"
      ]
    },
    {
      "cell_type": "code",
      "execution_count": 33,
      "metadata": {
        "id": "1hQCBWSoo20Q",
        "colab": {
          "base_uri": "https://localhost:8080/",
          "height": 562
        },
        "outputId": "bfa8a3a0-c7a0-486c-8eea-a4127b40e810"
      },
      "outputs": [
        {
          "output_type": "stream",
          "name": "stdout",
          "text": [
            "Positions: [(1, 3), (2, 4), (3, 1), (4, 2)]\n",
            "Checking state validity for positions: [(1, 3), (2, 4), (3, 1), (4, 2)]\n",
            "diagonal attack:Q1(1, 3) and Q2(2, 4)\n",
            "diagonal attack:Q1(1, 3) and Q3(3, 1)\n",
            "diagonal attack:Q2(2, 4) and Q4(4, 2)\n",
            "diagonal attack:Q3(3, 1) and Q4(4, 2)\n",
            "Found 4 diagonal conflict(s)\n",
            "State is INVALID due to conflicts.\n",
            "Valid state: False\n"
          ]
        },
        {
          "output_type": "display_data",
          "data": {
            "text/plain": [
              "<Figure size 640x480 with 1 Axes>"
            ],
            "image/png": "[encoded data removed]"
          },
          "metadata": {}
        }
      ],
      "source": [
        "import random\n",
        "import matplotlib.pyplot as plt\n",
        "\n",
        "def generatePositions(n=4):\n",
        "    cols = random.sample(range(1, n+1), n)\n",
        "    return [(i+1, cols[i]) for i in range(n)]\n",
        "\n",
        "def rowAttacK(P):\n",
        "    count = 0\n",
        "    for i, (rowi, _) in enumerate(P):\n",
        "        for j in range(i+1, len(P)):\n",
        "            if rowi == P[j][0]:\n",
        "                print(f'row attack:Q{i+1}{P[i]} and Q{j+1}{P[j]}')\n",
        "                count += 1\n",
        "    return count\n",
        "\n",
        "def columnAttack(P):\n",
        "    count = 0\n",
        "    for i, (_, coli) in enumerate(P):\n",
        "        for j in range(i+1, len(P)):\n",
        "            if coli == P[j][1]:\n",
        "                print(f'column attack:Q{i+1}{P[i]} and Q{j+1}{P[j]}')\n",
        "                count += 1\n",
        "    return count\n",
        "\n",
        "def diagonalAttack(P):\n",
        "    count = 0\n",
        "    for i, (rowi, coli) in enumerate(P):\n",
        "        for j in range(i+1, len(P)):\n",
        "            rowj, colj = P[j]\n",
        "            if rowi - coli == rowj - colj or rowi + coli == rowj + colj:\n",
        "                print(f'diagonal attack:Q{i+1}{P[i]} and Q{j+1}{P[j]}')\n",
        "                count += 1\n",
        "    return count\n",
        "\n",
        "def isValid(P):\n",
        "    print(\"Checking state validity for positions:\", P)\n",
        "    valid = True\n",
        "    # Check row conflicts\n",
        "    row_conflicts = rowAttacK(P)\n",
        "    if row_conflicts > 0:\n",
        "        print(f\"Found {row_conflicts} row conflict(s)\")\n",
        "        valid = False\n",
        "    # Check column conflicts\n",
        "    col_conflicts = columnAttack(P)\n",
        "    if col_conflicts > 0:\n",
        "        print(f\"Found {col_conflicts} column conflict(s)\")\n",
        "        valid = False\n",
        "    # Check diagonal conflicts\n",
        "    diag_conflicts = diagonalAttack(P)\n",
        "    if diag_conflicts > 0:\n",
        "        print(f\"Found {diag_conflicts} diagonal conflict(s)\")\n",
        "        valid = False\n",
        "    if valid:\n",
        "        print(\"State is VALID: No row, column, or diagonal conflicts.\")\n",
        "    else:\n",
        "        print(\"State is INVALID due to conflicts.\")\n",
        "    return valid\n",
        "\n",
        "def drawBoard(P):\n",
        "    n = len(P)\n",
        "    fig, ax = plt.subplots()\n",
        "    ax.set_xlim(0, n)\n",
        "    ax.set_ylim(0, n)\n",
        "    ax.set_aspect('equal')\n",
        "    ax.set_xticks([])\n",
        "    ax.set_yticks([])\n",
        "    for i in range(n + 1):\n",
        "        ax.plot([0, n], [i, i], 'k-', linewidth=2)\n",
        "        ax.plot([i, i], [0, n], 'k-', linewidth=2)\n",
        "    for i, (row, col) in enumerate(P):\n",
        "        if not (1 <= row <= n and 1 <= col <= n):\n",
        "            raise ValueError(f\"Invalid position ({row}, {col}) for {n}x{n} board\")\n",
        "        ax.text(col - 0.5, n - row + 0.5, f'Q{i+1}', ha='center', va='center', fontsize=12, color='red', weight='bold')\n",
        "    plt.show()\n",
        "\n",
        "positions = generatePositions()\n",
        "print(\"Positions:\", positions)\n",
        "is_valid = isValid(positions)\n",
        "print(\"Valid state:\", is_valid)\n",
        "drawBoard(positions)"
      ]
    },
    {
      "cell_type": "code",
      "source": [
        "# call isValid untill you get valid solution\n",
        "steps = 0\n",
        "while(True):\n",
        "  steps += 1\n",
        "  pos = generatePositions(4)\n",
        "  if isValid(pos):\n",
        "    print(f'A solution was found at step {steps}')\n",
        "    drawBoard(pos)\n",
        "    break\n",
        "  if steps >= 5:\n",
        "    print(f'No solution was found in the first {steps} steps')\n",
        "    break"
      ],
      "metadata": {
        "id": "Mzr-Rt9kR9Xn",
        "colab": {
          "base_uri": "https://localhost:8080/",
          "height": 545
        },
        "outputId": "9976480f-9027-445b-87ea-45a6e6cdfd46"
      },
      "execution_count": 34,
      "outputs": [
        {
          "output_type": "stream",
          "name": "stdout",
          "text": [
            "Checking state validity for positions: [(1, 4), (2, 2), (3, 3), (4, 1)]\n",
            "diagonal attack:Q1(1, 4) and Q4(4, 1)\n",
            "diagonal attack:Q2(2, 2) and Q3(3, 3)\n",
            "Found 2 diagonal conflict(s)\n",
            "State is INVALID due to conflicts.\n",
            "Checking state validity for positions: [(1, 3), (2, 1), (3, 4), (4, 2)]\n",
            "State is VALID: No row, column, or diagonal conflicts.\n",
            "A solution was found at step 2\n"
          ]
        },
        {
          "output_type": "display_data",
          "data": {
            "text/plain": [
              "<Figure size 640x480 with 1 Axes>"
            ],
            "image/png": "[encoded data removed]"
          },
          "metadata": {}
        }
      ]
    }
  ],
  "metadata": {
    "kernelspec": {
      "display_name": "Python 3",
      "language": "python",
      "name": "python3"
    },
    "language_info": {
      "codemirror_mode": {
        "name": "ipython",
        "version": 3
      },
      "file_extension": ".py",
      "mimetype": "text/x-python",
      "name": "python",
      "nbconvert_exporter": "python",
      "pygments_lexer": "ipython3",
      "version": "3.8.5"
    },
    "colab": {
      "provenance": []
    }
  },
  "nbformat": 4,
  "nbformat_minor": 0
}
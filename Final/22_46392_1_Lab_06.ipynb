{
  "cells": [
    {
      "cell_type": "markdown",
      "metadata": {
        "id": "nz8Q6nBSaf7k"
      },
      "source": [
        "###### To solve a puzzle, you are given an initial state and a goal state.\n",
        "###### Target is to reach goal state from initial state using puzzle rules.\n",
        "######  We can move blank tile only on left, right, up, and down\n",
        "![image.png](data:image/png;base64,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)"
      ]
    },
    {
      "cell_type": "markdown",
      "metadata": {
        "id": "SaqziTVFaf7s"
      },
      "source": [
        "# Generate an intial state of NPuzzle"
      ]
    },
    {
      "cell_type": "code",
      "source": [
        "import matplotlib.pyplot as plt\n",
        "import random\n",
        "import math\n",
        "import numpy as np\n",
        "\n",
        "def drawPuzzle(state):\n",
        "    n = int(math.sqrt(len(state)))\n",
        "    grid = np.array(state).reshape(n, n)\n",
        "\n",
        "    fig, ax = plt.subplots()\n",
        "    cmap = plt.cm.Blues\n",
        "    ax.matshow(grid != 0, cmap=cmap)  # show nonzero tiles as blue, 0 as white\n",
        "\n",
        "    for i in range(n):\n",
        "        for j in range(n):\n",
        "            val = grid[i, j]\n",
        "            if val != 0:\n",
        "                ax.text(j, i, str(val), va='center', ha='center', fontsize=16, color='white', weight='bold')\n",
        "\n",
        "    ax.set_xticks(np.arange(-0.5, n, 1), minor=True)\n",
        "    ax.set_yticks(np.arange(-0.5, n, 1), minor=True)\n",
        "    ax.grid(which='minor', color='gray', linestyle='-', linewidth=1)\n",
        "    ax.tick_params(which='both', bottom=False, left=False, labelbottom=False, labelleft=False)\n",
        "\n",
        "    plt.show()\n"
      ],
      "metadata": {
        "id": "s0kdJvzEH3Br"
      },
      "execution_count": null,
      "outputs": []
    },
    {
      "cell_type": "code",
      "execution_count": null,
      "metadata": {
        "scrolled": true,
        "id": "iTX34gUNaf7t",
        "colab": {
          "base_uri": "https://localhost:8080/",
          "height": 447
        },
        "outputId": "602cb5c6-64f5-43bc-dbb2-a9ca557862cc"
      },
      "outputs": [
        {
          "output_type": "stream",
          "name": "stdout",
          "text": [
            "Initial state: [3, 6, 2, 8, 0, 5, 1, 7, 4]\n"
          ]
        },
        {
          "output_type": "display_data",
          "data": {
            "text/plain": [
              "<Figure size 640x480 with 1 Axes>"
            ],
            "image/png": "[encoded data removed]"
          },
          "metadata": {}
        }
      ],
      "source": [
        "def generateState(n):\n",
        "    if n is None:\n",
        "      n = random.choice([3,4,5])\n",
        "    state = list(range(n**2))\n",
        "    random.shuffle(state)\n",
        "    return state\n",
        "initialState = generateState(None)\n",
        "print(\"Initial state:\", initialState)\n",
        "drawPuzzle(initialState)"
      ]
    },
    {
      "cell_type": "markdown",
      "source": [
        "**Get Dimension**"
      ],
      "metadata": {
        "id": "o0P8v6Vc6q4-"
      }
    },
    {
      "cell_type": "code",
      "source": [
        "def dimension(state):\n",
        "  return int(math.sqrt(len(state)))\n",
        "\n",
        "dimension(initialState)"
      ],
      "metadata": {
        "id": "UePds4atNrz_",
        "colab": {
          "base_uri": "https://localhost:8080/"
        },
        "outputId": "7adce7fd-1aec-4508-fa3e-fd4ec774ba6d"
      },
      "execution_count": null,
      "outputs": [
        {
          "output_type": "execute_result",
          "data": {
            "text/plain": [
              "3"
            ]
          },
          "metadata": {},
          "execution_count": 16
        }
      ]
    },
    {
      "cell_type": "markdown",
      "metadata": {
        "id": "3hD4ieUaaf7x"
      },
      "source": [
        "# Calculate inversion"
      ]
    },
    {
      "cell_type": "markdown",
      "metadata": {
        "id": "CkoMv0C8af7y"
      },
      "source": [
        "Inversion is a pair of tiles that are in the reverse order from where they ought to be. In our case, the bigger number is in front of the smaller one.\n",
        "\n"
      ]
    },
    {
      "cell_type": "markdown",
      "metadata": {
        "id": "JcfDN45Caf7y"
      },
      "source": [
        "![image.png](data:image/png;base64,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)"
      ]
    },
    {
      "cell_type": "code",
      "execution_count": null,
      "metadata": {
        "id": "-W9FOmneaf7z",
        "colab": {
          "base_uri": "https://localhost:8080/"
        },
        "outputId": "2d6bb093-292e-46ca-c7c7-a93679650fc7"
      },
      "outputs": [
        {
          "output_type": "execute_result",
          "data": {
            "text/plain": [
              "14"
            ]
          },
          "metadata": {},
          "execution_count": 17
        }
      ],
      "source": [
        "def inversionCount(state):\n",
        "    count = 0\n",
        "    for i, a in enumerate(state):\n",
        "      if a > 0:\n",
        "        for b in state[i+1:]:\n",
        "          if b > 0 and a > b:\n",
        "            count += 1\n",
        "    return count\n",
        "\n",
        "inversionCount(initialState)"
      ]
    },
    {
      "cell_type": "code",
      "source": [
        "initialState.index(0)"
      ],
      "metadata": {
        "colab": {
          "base_uri": "https://localhost:8080/"
        },
        "id": "znluowb7Jot_",
        "outputId": "6e176cf5-e89f-4f91-8a1e-ed0f87003068"
      },
      "execution_count": null,
      "outputs": [
        {
          "output_type": "execute_result",
          "data": {
            "text/plain": [
              "4"
            ]
          },
          "metadata": {},
          "execution_count": 18
        }
      ]
    },
    {
      "cell_type": "markdown",
      "source": [
        "# **Find blank row**"
      ],
      "metadata": {
        "id": "EDn9_ODN1RFU"
      }
    },
    {
      "cell_type": "markdown",
      "source": [
        "![image.png](data:image/png;base64,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)"
      ],
      "metadata": {
        "id": "sPMvh34cAIwB"
      }
    },
    {
      "cell_type": "code",
      "execution_count": null,
      "metadata": {
        "id": "R7-N-A6Oaf76"
      },
      "outputs": [],
      "source": [
        "# find row position of the blank tile\n",
        "def blankTileRow(state):\n",
        "    blank_index = state.index(0)\n",
        "    return blank_index\n"
      ]
    },
    {
      "cell_type": "markdown",
      "metadata": {
        "id": "8bTLG_ZQaf73"
      },
      "source": [
        "# Solvability Rules"
      ]
    },
    {
      "cell_type": "code",
      "execution_count": null,
      "metadata": {
        "id": "0ciw2n-uaf77"
      },
      "outputs": [],
      "source": [
        "# apply the rules to decide solvability\n",
        "#  N, I, R\n",
        "# define a method to return solvability (input S)\n",
        "# return True if solvable or False if not\n",
        "\n",
        "def isSolvable(state):\n",
        "    N = dimension(state)\n",
        "    I = inversionCount(state)\n",
        "    R = blankTileRow(state)\n",
        "    R_bottom = N - R - 1\n",
        "    return (I + R_bottom) % 2 == 0\n",
        "\n",
        "def dimension(state):\n",
        "    import math\n",
        "    return int(math.sqrt(len(state)))"
      ]
    },
    {
      "cell_type": "code",
      "source": [
        "isSolvable(initialState)"
      ],
      "metadata": {
        "id": "u2TGpQfNhnP2",
        "colab": {
          "base_uri": "https://localhost:8080/"
        },
        "outputId": "26419b74-b433-4f6c-cd63-fd59211b343c"
      },
      "execution_count": null,
      "outputs": [
        {
          "output_type": "execute_result",
          "data": {
            "text/plain": [
              "True"
            ]
          },
          "metadata": {},
          "execution_count": 21
        }
      ]
    },
    {
      "cell_type": "markdown",
      "source": [
        "Generate a solvable state."
      ],
      "metadata": {
        "id": "PmGFBBGDvZq0"
      }
    },
    {
      "cell_type": "code",
      "source": [
        "def findSolvableState(max_steps=100):\n",
        "    for steps in range(1, max_steps + 1):\n",
        "        s = generateState(None)\n",
        "        if isSolvable(s):\n",
        "            print(f'A solvable state was found at step {steps}')\n",
        "            drawPuzzle(s)\n",
        "            return s\n",
        "        if steps % 10 == 0:\n",
        "            print(f'Attempted {steps} states so far...')\n",
        "    print(f'Solvable state was not found in the first {max_steps} steps')\n",
        "    return None\n",
        "\n",
        "findSolvableState()"
      ],
      "metadata": {
        "id": "tWVgVv0oTX2m",
        "colab": {
          "base_uri": "https://localhost:8080/",
          "height": 881
        },
        "outputId": "06ab2d71-e10d-45a4-f0a2-b845db3066b9"
      },
      "execution_count": null,
      "outputs": [
        {
          "output_type": "stream",
          "name": "stdout",
          "text": [
            "A solvable state was found at step 1\n"
          ]
        },
        {
          "output_type": "display_data",
          "data": {
            "text/plain": [
              "<Figure size 640x480 with 1 Axes>"
            ],
            "image/png": "[encoded data removed]"
          },
          "metadata": {}
        },
        {
          "output_type": "execute_result",
          "data": {
            "text/plain": [
              "[12,\n",
              " 5,\n",
              " 0,\n",
              " 13,\n",
              " 10,\n",
              " 22,\n",
              " 18,\n",
              " 1,\n",
              " 20,\n",
              " 15,\n",
              " 16,\n",
              " 23,\n",
              " 3,\n",
              " 11,\n",
              " 9,\n",
              " 7,\n",
              " 14,\n",
              " 17,\n",
              " 2,\n",
              " 19,\n",
              " 4,\n",
              " 21,\n",
              " 24,\n",
              " 6,\n",
              " 8]"
            ]
          },
          "metadata": {},
          "execution_count": 22
        }
      ]
    }
  ],
  "metadata": {
    "kernelspec": {
      "display_name": "Python 3",
      "language": "python",
      "name": "python3"
    },
    "language_info": {
      "codemirror_mode": {
        "name": "ipython",
        "version": 3
      },
      "file_extension": ".py",
      "mimetype": "text/x-python",
      "name": "python",
      "nbconvert_exporter": "python",
      "pygments_lexer": "ipython3",
      "version": "3.8.5"
    },
    "colab": {
      "provenance": []
    }
  },
  "nbformat": 4,
  "nbformat_minor": 0
}